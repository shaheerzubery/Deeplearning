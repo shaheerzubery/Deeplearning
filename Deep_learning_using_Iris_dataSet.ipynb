{
  "nbformat": 4,
  "nbformat_minor": 0,
  "metadata": {
    "colab": {
      "name": "Deep learning using Iris dataSet.ipynb",
      "provenance": [],
      "authorship_tag": "ABX9TyPI27dLX//Ly3kVkXTv0T3X",
      "include_colab_link": true
    },
    "kernelspec": {
      "name": "python3",
      "display_name": "Python 3"
    },
    "language_info": {
      "name": "python"
    }
  },
  "cells": [
    {
      "cell_type": "markdown",
      "metadata": {
        "id": "view-in-github",
        "colab_type": "text"
      },
      "source": [
        "<a href=\"https://colab.research.google.com/github/shaheerzubery/Deeplearning/blob/main/Deep_learning_using_Iris_dataSet.ipynb\" target=\"_parent\"><img src=\"https://colab.research.google.com/assets/colab-badge.svg\" alt=\"Open In Colab\"/></a>"
      ]
    },
    {
      "cell_type": "markdown",
      "source": [
        "Import data and transform Data"
      ],
      "metadata": {
        "id": "_8ZQhO84tbvj"
      }
    },
    {
      "cell_type": "code",
      "execution_count": 11,
      "metadata": {
        "id": "1qy_VIr4tS8B"
      },
      "outputs": [],
      "source": [
        "import pandas as pd\n",
        "path = \"/content/Iris.csv\"\n",
        "DataSet = pd.read_csv(path).dropna()"
      ]
    },
    {
      "cell_type": "code",
      "source": [
        "DataSet.head()"
      ],
      "metadata": {
        "colab": {
          "base_uri": "https://localhost:8080/",
          "height": 206
        },
        "id": "XIcqyQ0EuIe8",
        "outputId": "90d649e4-8481-430d-fddd-c7d9e7e12a0e"
      },
      "execution_count": 12,
      "outputs": [
        {
          "output_type": "execute_result",
          "data": {
            "text/plain": [
              "   Id  SepalLengthCm  SepalWidthCm  PetalLengthCm  PetalWidthCm  Species\n",
              "0   1            5.1           3.5            1.4           0.2        0\n",
              "1   2            4.9           3.0            1.4           0.2        0\n",
              "2   3            4.7           3.2            1.3           0.2        0\n",
              "3   4            4.6           3.1            1.5           0.2        0\n",
              "4   5            5.0           3.6            1.4           0.2        0"
            ],
            "text/html": [
              "\n",
              "  <div id=\"df-7e999147-7807-47f3-a3eb-e69ca9b5037f\">\n",
              "    <div class=\"colab-df-container\">\n",
              "      <div>\n",
              "<style scoped>\n",
              "    .dataframe tbody tr th:only-of-type {\n",
              "        vertical-align: middle;\n",
              "    }\n",
              "\n",
              "    .dataframe tbody tr th {\n",
              "        vertical-align: top;\n",
              "    }\n",
              "\n",
              "    .dataframe thead th {\n",
              "        text-align: right;\n",
              "    }\n",
              "</style>\n",
              "<table border=\"1\" class=\"dataframe\">\n",
              "  <thead>\n",
              "    <tr style=\"text-align: right;\">\n",
              "      <th></th>\n",
              "      <th>Id</th>\n",
              "      <th>SepalLengthCm</th>\n",
              "      <th>SepalWidthCm</th>\n",
              "      <th>PetalLengthCm</th>\n",
              "      <th>PetalWidthCm</th>\n",
              "      <th>Species</th>\n",
              "    </tr>\n",
              "  </thead>\n",
              "  <tbody>\n",
              "    <tr>\n",
              "      <th>0</th>\n",
              "      <td>1</td>\n",
              "      <td>5.1</td>\n",
              "      <td>3.5</td>\n",
              "      <td>1.4</td>\n",
              "      <td>0.2</td>\n",
              "      <td>0</td>\n",
              "    </tr>\n",
              "    <tr>\n",
              "      <th>1</th>\n",
              "      <td>2</td>\n",
              "      <td>4.9</td>\n",
              "      <td>3.0</td>\n",
              "      <td>1.4</td>\n",
              "      <td>0.2</td>\n",
              "      <td>0</td>\n",
              "    </tr>\n",
              "    <tr>\n",
              "      <th>2</th>\n",
              "      <td>3</td>\n",
              "      <td>4.7</td>\n",
              "      <td>3.2</td>\n",
              "      <td>1.3</td>\n",
              "      <td>0.2</td>\n",
              "      <td>0</td>\n",
              "    </tr>\n",
              "    <tr>\n",
              "      <th>3</th>\n",
              "      <td>4</td>\n",
              "      <td>4.6</td>\n",
              "      <td>3.1</td>\n",
              "      <td>1.5</td>\n",
              "      <td>0.2</td>\n",
              "      <td>0</td>\n",
              "    </tr>\n",
              "    <tr>\n",
              "      <th>4</th>\n",
              "      <td>5</td>\n",
              "      <td>5.0</td>\n",
              "      <td>3.6</td>\n",
              "      <td>1.4</td>\n",
              "      <td>0.2</td>\n",
              "      <td>0</td>\n",
              "    </tr>\n",
              "  </tbody>\n",
              "</table>\n",
              "</div>\n",
              "      <button class=\"colab-df-convert\" onclick=\"convertToInteractive('df-7e999147-7807-47f3-a3eb-e69ca9b5037f')\"\n",
              "              title=\"Convert this dataframe to an interactive table.\"\n",
              "              style=\"display:none;\">\n",
              "        \n",
              "  <svg xmlns=\"http://www.w3.org/2000/svg\" height=\"24px\"viewBox=\"0 0 24 24\"\n",
              "       width=\"24px\">\n",
              "    <path d=\"M0 0h24v24H0V0z\" fill=\"none\"/>\n",
              "    <path d=\"M18.56 5.44l.94 2.06.94-2.06 2.06-.94-2.06-.94-.94-2.06-.94 2.06-2.06.94zm-11 1L8.5 8.5l.94-2.06 2.06-.94-2.06-.94L8.5 2.5l-.94 2.06-2.06.94zm10 10l.94 2.06.94-2.06 2.06-.94-2.06-.94-.94-2.06-.94 2.06-2.06.94z\"/><path d=\"M17.41 7.96l-1.37-1.37c-.4-.4-.92-.59-1.43-.59-.52 0-1.04.2-1.43.59L10.3 9.45l-7.72 7.72c-.78.78-.78 2.05 0 2.83L4 21.41c.39.39.9.59 1.41.59.51 0 1.02-.2 1.41-.59l7.78-7.78 2.81-2.81c.8-.78.8-2.07 0-2.86zM5.41 20L4 18.59l7.72-7.72 1.47 1.35L5.41 20z\"/>\n",
              "  </svg>\n",
              "      </button>\n",
              "      \n",
              "  <style>\n",
              "    .colab-df-container {\n",
              "      display:flex;\n",
              "      flex-wrap:wrap;\n",
              "      gap: 12px;\n",
              "    }\n",
              "\n",
              "    .colab-df-convert {\n",
              "      background-color: #E8F0FE;\n",
              "      border: none;\n",
              "      border-radius: 50%;\n",
              "      cursor: pointer;\n",
              "      display: none;\n",
              "      fill: #1967D2;\n",
              "      height: 32px;\n",
              "      padding: 0 0 0 0;\n",
              "      width: 32px;\n",
              "    }\n",
              "\n",
              "    .colab-df-convert:hover {\n",
              "      background-color: #E2EBFA;\n",
              "      box-shadow: 0px 1px 2px rgba(60, 64, 67, 0.3), 0px 1px 3px 1px rgba(60, 64, 67, 0.15);\n",
              "      fill: #174EA6;\n",
              "    }\n",
              "\n",
              "    [theme=dark] .colab-df-convert {\n",
              "      background-color: #3B4455;\n",
              "      fill: #D2E3FC;\n",
              "    }\n",
              "\n",
              "    [theme=dark] .colab-df-convert:hover {\n",
              "      background-color: #434B5C;\n",
              "      box-shadow: 0px 1px 3px 1px rgba(0, 0, 0, 0.15);\n",
              "      filter: drop-shadow(0px 1px 2px rgba(0, 0, 0, 0.3));\n",
              "      fill: #FFFFFF;\n",
              "    }\n",
              "  </style>\n",
              "\n",
              "      <script>\n",
              "        const buttonEl =\n",
              "          document.querySelector('#df-7e999147-7807-47f3-a3eb-e69ca9b5037f button.colab-df-convert');\n",
              "        buttonEl.style.display =\n",
              "          google.colab.kernel.accessAllowed ? 'block' : 'none';\n",
              "\n",
              "        async function convertToInteractive(key) {\n",
              "          const element = document.querySelector('#df-7e999147-7807-47f3-a3eb-e69ca9b5037f');\n",
              "          const dataTable =\n",
              "            await google.colab.kernel.invokeFunction('convertToInteractive',\n",
              "                                                     [key], {});\n",
              "          if (!dataTable) return;\n",
              "\n",
              "          const docLinkHtml = 'Like what you see? Visit the ' +\n",
              "            '<a target=\"_blank\" href=https://colab.research.google.com/notebooks/data_table.ipynb>data table notebook</a>'\n",
              "            + ' to learn more about interactive tables.';\n",
              "          element.innerHTML = '';\n",
              "          dataTable['output_type'] = 'display_data';\n",
              "          await google.colab.output.renderOutput(dataTable, element);\n",
              "          const docLink = document.createElement('div');\n",
              "          docLink.innerHTML = docLinkHtml;\n",
              "          element.appendChild(docLink);\n",
              "        }\n",
              "      </script>\n",
              "    </div>\n",
              "  </div>\n",
              "  "
            ]
          },
          "metadata": {},
          "execution_count": 12
        }
      ]
    },
    {
      "cell_type": "code",
      "source": [
        "DataSet['SepalLengthCm'] = DataSet['SepalLengthCm']/10\n",
        "DataSet['SepalWidthCm'] = DataSet['SepalWidthCm']/10\n",
        "DataSet['PetalLengthCm'] = DataSet['PetalLengthCm']/10\n",
        "\n",
        "for i in range(1,5):\n",
        "    DataSet = DataSet.append(DataSet)\n",
        "\n",
        "DataSet.describe()\n",
        "\n",
        "sample = DataSet.sample(10)\n",
        "sample\n",
        "\n",
        "Iris_class = ['setosa', 'virginica', 'versicolor']\n",
        "print(sample.columns[0:5].values, 'SpeciesName')\n",
        "for index, row in DataSet.sample(10).iterrows():\n",
        "    print('[',row[0], row[1], row[2],row[3], int(row[4]), ']',Iris_class[int(row[-1])])"
      ],
      "metadata": {
        "colab": {
          "base_uri": "https://localhost:8080/"
        },
        "id": "G1NzNgxhuLkk",
        "outputId": "a839c88a-fe12-4042-cced-54d6db6aec7f"
      },
      "execution_count": 14,
      "outputs": [
        {
          "output_type": "stream",
          "name": "stdout",
          "text": [
            "['Id' 'SepalLengthCm' 'SepalWidthCm' 'PetalLengthCm' 'PetalWidthCm'] SpeciesName\n",
            "[ 106.0 0.076 0.03 0.06599999999999999 2 ] versicolor\n",
            "[ 28.0 0.052000000000000005 0.034999999999999996 0.015 0 ] setosa\n",
            "[ 95.0 0.055999999999999994 0.027000000000000003 0.042 1 ] virginica\n",
            "[ 131.0 0.074 0.027999999999999997 0.061 1 ] versicolor\n",
            "[ 55.0 0.065 0.027999999999999997 0.046 1 ] virginica\n",
            "[ 54.0 0.05500000000000001 0.023 0.04 1 ] virginica\n",
            "[ 89.0 0.055999999999999994 0.03 0.040999999999999995 1 ] virginica\n",
            "[ 88.0 0.063 0.023 0.044000000000000004 1 ] virginica\n",
            "[ 29.0 0.052000000000000005 0.033999999999999996 0.013999999999999999 0 ] setosa\n",
            "[ 137.0 0.063 0.033999999999999996 0.055999999999999994 2 ] versicolor\n"
          ]
        }
      ]
    },
    {
      "cell_type": "markdown",
      "source": [
        "Split Training and testing Data"
      ],
      "metadata": {
        "id": "potnV7OlvPNs"
      }
    },
    {
      "cell_type": "code",
      "source": [
        "from sklearn.model_selection import train_test_split\n",
        "\n",
        "feature = ['SepalLengthCm','SepalWidthCm','PetalLengthCm','PetalWidthCm']\n",
        "labels = 'Species'\n",
        "\n",
        "x,y = DataSet[feature].values , DataSet[labels].values\n",
        "\n",
        "x_train,x_test,y_train,y_test = train_test_split(x,y, test_size=.30 , random_state=0)\n",
        "\n",
        "print('train count', x_train.shape[0], '\\n' , 'test count', x_test.shape[0])\n"
      ],
      "metadata": {
        "colab": {
          "base_uri": "https://localhost:8080/"
        },
        "id": "-pZECM68u-Bx",
        "outputId": "36161084-37f2-497b-9764-8120c5cdb60e"
      },
      "execution_count": 15,
      "outputs": [
        {
          "output_type": "stream",
          "name": "stdout",
          "text": [
            "train count 26880 \n",
            " test count 11520\n"
          ]
        }
      ]
    },
    {
      "cell_type": "markdown",
      "source": [
        "**Import tensorflow**"
      ],
      "metadata": {
        "id": "cu3kwaQowWk2"
      }
    },
    {
      "cell_type": "code",
      "source": [
        "!pip install --upgrade tensorflow"
      ],
      "metadata": {
        "colab": {
          "base_uri": "https://localhost:8080/"
        },
        "id": "25euC3iqwRkz",
        "outputId": "7b986f55-07f5-442e-e692-d319ee03ba74"
      },
      "execution_count": 16,
      "outputs": [
        {
          "output_type": "stream",
          "name": "stdout",
          "text": [
            "Requirement already satisfied: tensorflow in /usr/local/lib/python3.7/dist-packages (2.8.0)\n",
            "Requirement already satisfied: wrapt>=1.11.0 in /usr/local/lib/python3.7/dist-packages (from tensorflow) (1.14.0)\n",
            "Requirement already satisfied: tensorflow-io-gcs-filesystem>=0.23.1 in /usr/local/lib/python3.7/dist-packages (from tensorflow) (0.25.0)\n",
            "Requirement already satisfied: h5py>=2.9.0 in /usr/local/lib/python3.7/dist-packages (from tensorflow) (3.1.0)\n",
            "Requirement already satisfied: gast>=0.2.1 in /usr/local/lib/python3.7/dist-packages (from tensorflow) (0.5.3)\n",
            "Requirement already satisfied: google-pasta>=0.1.1 in /usr/local/lib/python3.7/dist-packages (from tensorflow) (0.2.0)\n",
            "Requirement already satisfied: absl-py>=0.4.0 in /usr/local/lib/python3.7/dist-packages (from tensorflow) (1.0.0)\n",
            "Requirement already satisfied: opt-einsum>=2.3.2 in /usr/local/lib/python3.7/dist-packages (from tensorflow) (3.3.0)\n",
            "Requirement already satisfied: protobuf>=3.9.2 in /usr/local/lib/python3.7/dist-packages (from tensorflow) (3.17.3)\n",
            "Requirement already satisfied: flatbuffers>=1.12 in /usr/local/lib/python3.7/dist-packages (from tensorflow) (2.0)\n",
            "Requirement already satisfied: keras-preprocessing>=1.1.1 in /usr/local/lib/python3.7/dist-packages (from tensorflow) (1.1.2)\n",
            "Requirement already satisfied: libclang>=9.0.1 in /usr/local/lib/python3.7/dist-packages (from tensorflow) (14.0.1)\n",
            "Requirement already satisfied: six>=1.12.0 in /usr/local/lib/python3.7/dist-packages (from tensorflow) (1.15.0)\n",
            "Requirement already satisfied: tf-estimator-nightly==2.8.0.dev2021122109 in /usr/local/lib/python3.7/dist-packages (from tensorflow) (2.8.0.dev2021122109)\n",
            "Requirement already satisfied: grpcio<2.0,>=1.24.3 in /usr/local/lib/python3.7/dist-packages (from tensorflow) (1.44.0)\n",
            "Requirement already satisfied: setuptools in /usr/local/lib/python3.7/dist-packages (from tensorflow) (57.4.0)\n",
            "Requirement already satisfied: tensorboard<2.9,>=2.8 in /usr/local/lib/python3.7/dist-packages (from tensorflow) (2.8.0)\n",
            "Requirement already satisfied: keras<2.9,>=2.8.0rc0 in /usr/local/lib/python3.7/dist-packages (from tensorflow) (2.8.0)\n",
            "Requirement already satisfied: numpy>=1.20 in /usr/local/lib/python3.7/dist-packages (from tensorflow) (1.21.6)\n",
            "Requirement already satisfied: termcolor>=1.1.0 in /usr/local/lib/python3.7/dist-packages (from tensorflow) (1.1.0)\n",
            "Requirement already satisfied: typing-extensions>=3.6.6 in /usr/local/lib/python3.7/dist-packages (from tensorflow) (4.2.0)\n",
            "Requirement already satisfied: astunparse>=1.6.0 in /usr/local/lib/python3.7/dist-packages (from tensorflow) (1.6.3)\n",
            "Requirement already satisfied: wheel<1.0,>=0.23.0 in /usr/local/lib/python3.7/dist-packages (from astunparse>=1.6.0->tensorflow) (0.37.1)\n",
            "Requirement already satisfied: cached-property in /usr/local/lib/python3.7/dist-packages (from h5py>=2.9.0->tensorflow) (1.5.2)\n",
            "Requirement already satisfied: werkzeug>=0.11.15 in /usr/local/lib/python3.7/dist-packages (from tensorboard<2.9,>=2.8->tensorflow) (1.0.1)\n",
            "Requirement already satisfied: tensorboard-data-server<0.7.0,>=0.6.0 in /usr/local/lib/python3.7/dist-packages (from tensorboard<2.9,>=2.8->tensorflow) (0.6.1)\n",
            "Requirement already satisfied: markdown>=2.6.8 in /usr/local/lib/python3.7/dist-packages (from tensorboard<2.9,>=2.8->tensorflow) (3.3.6)\n",
            "Requirement already satisfied: requests<3,>=2.21.0 in /usr/local/lib/python3.7/dist-packages (from tensorboard<2.9,>=2.8->tensorflow) (2.23.0)\n",
            "Requirement already satisfied: tensorboard-plugin-wit>=1.6.0 in /usr/local/lib/python3.7/dist-packages (from tensorboard<2.9,>=2.8->tensorflow) (1.8.1)\n",
            "Requirement already satisfied: google-auth-oauthlib<0.5,>=0.4.1 in /usr/local/lib/python3.7/dist-packages (from tensorboard<2.9,>=2.8->tensorflow) (0.4.6)\n",
            "Requirement already satisfied: google-auth<3,>=1.6.3 in /usr/local/lib/python3.7/dist-packages (from tensorboard<2.9,>=2.8->tensorflow) (1.35.0)\n",
            "Requirement already satisfied: cachetools<5.0,>=2.0.0 in /usr/local/lib/python3.7/dist-packages (from google-auth<3,>=1.6.3->tensorboard<2.9,>=2.8->tensorflow) (4.2.4)\n",
            "Requirement already satisfied: pyasn1-modules>=0.2.1 in /usr/local/lib/python3.7/dist-packages (from google-auth<3,>=1.6.3->tensorboard<2.9,>=2.8->tensorflow) (0.2.8)\n",
            "Requirement already satisfied: rsa<5,>=3.1.4 in /usr/local/lib/python3.7/dist-packages (from google-auth<3,>=1.6.3->tensorboard<2.9,>=2.8->tensorflow) (4.8)\n",
            "Requirement already satisfied: requests-oauthlib>=0.7.0 in /usr/local/lib/python3.7/dist-packages (from google-auth-oauthlib<0.5,>=0.4.1->tensorboard<2.9,>=2.8->tensorflow) (1.3.1)\n",
            "Requirement already satisfied: importlib-metadata>=4.4 in /usr/local/lib/python3.7/dist-packages (from markdown>=2.6.8->tensorboard<2.9,>=2.8->tensorflow) (4.11.3)\n",
            "Requirement already satisfied: zipp>=0.5 in /usr/local/lib/python3.7/dist-packages (from importlib-metadata>=4.4->markdown>=2.6.8->tensorboard<2.9,>=2.8->tensorflow) (3.8.0)\n",
            "Requirement already satisfied: pyasn1<0.5.0,>=0.4.6 in /usr/local/lib/python3.7/dist-packages (from pyasn1-modules>=0.2.1->google-auth<3,>=1.6.3->tensorboard<2.9,>=2.8->tensorflow) (0.4.8)\n",
            "Requirement already satisfied: urllib3!=1.25.0,!=1.25.1,<1.26,>=1.21.1 in /usr/local/lib/python3.7/dist-packages (from requests<3,>=2.21.0->tensorboard<2.9,>=2.8->tensorflow) (1.24.3)\n",
            "Requirement already satisfied: certifi>=2017.4.17 in /usr/local/lib/python3.7/dist-packages (from requests<3,>=2.21.0->tensorboard<2.9,>=2.8->tensorflow) (2021.10.8)\n",
            "Requirement already satisfied: idna<3,>=2.5 in /usr/local/lib/python3.7/dist-packages (from requests<3,>=2.21.0->tensorboard<2.9,>=2.8->tensorflow) (2.10)\n",
            "Requirement already satisfied: chardet<4,>=3.0.2 in /usr/local/lib/python3.7/dist-packages (from requests<3,>=2.21.0->tensorboard<2.9,>=2.8->tensorflow) (3.0.4)\n",
            "Requirement already satisfied: oauthlib>=3.0.0 in /usr/local/lib/python3.7/dist-packages (from requests-oauthlib>=0.7.0->google-auth-oauthlib<0.5,>=0.4.1->tensorboard<2.9,>=2.8->tensorflow) (3.2.0)\n"
          ]
        }
      ]
    },
    {
      "cell_type": "code",
      "source": [
        "import tensorflow as tf\n",
        "from tensorflow import keras\n",
        "from tensorflow.keras import models\n",
        "from tensorflow.keras.models import Sequential\n",
        "from tensorflow.keras.layers import Dense\n",
        "from tensorflow.keras import utils\n",
        "from tensorflow.keras import optimizers"
      ],
      "metadata": {
        "id": "BfSLVsICwaxY"
      },
      "execution_count": 17,
      "outputs": []
    },
    {
      "cell_type": "code",
      "source": [
        "# Set random seed for reproducability\n",
        "tf.random.set_seed(0)\n",
        "\n",
        "print(\"Libraries imported.\")\n",
        "print('Keras version:',keras.__version__)\n",
        "print('TensorFlow version:',tf.__version__)"
      ],
      "metadata": {
        "colab": {
          "base_uri": "https://localhost:8080/"
        },
        "id": "AS-Ytijtw0nK",
        "outputId": "a61ee56b-b793-44ae-e2fe-6b833a6ca598"
      },
      "execution_count": 18,
      "outputs": [
        {
          "output_type": "stream",
          "name": "stdout",
          "text": [
            "Libraries imported.\n",
            "Keras version: 2.8.0\n",
            "TensorFlow version: 2.8.0\n"
          ]
        }
      ]
    },
    {
      "cell_type": "code",
      "source": [
        "#set data type float\n",
        "x_train  = x_train.astype('float32')\n",
        "x_test = x_test.astype('float32')\n",
        "\n",
        "# Set data types for categorical labels\n",
        "y_train = utils.to_categorical(y_train)\n",
        "y_test = utils.to_categorical(y_test)\n",
        "print('Ready...')"
      ],
      "metadata": {
        "colab": {
          "base_uri": "https://localhost:8080/"
        },
        "id": "P-c_KYqgw84Z",
        "outputId": "eb94538e-80cc-401d-eeca-7fb26695c0ae"
      },
      "execution_count": 19,
      "outputs": [
        {
          "output_type": "stream",
          "name": "stdout",
          "text": [
            "Ready...\n"
          ]
        }
      ]
    },
    {
      "cell_type": "markdown",
      "source": [
        "## Neural network"
      ],
      "metadata": {
        "id": "9HpcYofLys_m"
      }
    },
    {
      "cell_type": "code",
      "source": [
        "h1 = 10\n",
        "\n",
        "#level 1 weight =  length of features x h1\n",
        "#level 2 weight =10 x 10\n",
        "#level 3 weight = 10 x 3\n",
        "model = Sequential()\n",
        "model.add(Dense(h1, input_dim = len(feature), activation='relu'))\n",
        "model.add(Dense(h1, input_dim = h1, activation='relu'))\n",
        "model.add(Dense(len(Iris_class), input_dim = h1, activation='softmax'))\n",
        "\n",
        "print(model.summary())"
      ],
      "metadata": {
        "colab": {
          "base_uri": "https://localhost:8080/"
        },
        "id": "3sEkWID6xser",
        "outputId": "802a7b15-4179-4aa3-88c6-03017eeaa2ce"
      },
      "execution_count": 22,
      "outputs": [
        {
          "output_type": "stream",
          "name": "stdout",
          "text": [
            "Model: \"sequential_3\"\n",
            "_________________________________________________________________\n",
            " Layer (type)                Output Shape              Param #   \n",
            "=================================================================\n",
            " dense_9 (Dense)             (None, 10)                50        \n",
            "                                                                 \n",
            " dense_10 (Dense)            (None, 10)                110       \n",
            "                                                                 \n",
            " dense_11 (Dense)            (None, 3)                 33        \n",
            "                                                                 \n",
            "=================================================================\n",
            "Total params: 193\n",
            "Trainable params: 193\n",
            "Non-trainable params: 0\n",
            "_________________________________________________________________\n",
            "None\n"
          ]
        }
      ]
    },
    {
      "cell_type": "code",
      "source": [
        "learning_rate = 0.001\n",
        "opt = optimizers.Adam(lr=learning_rate)\n",
        "\n",
        "model.compile(loss='categorical_crossentropy',\n",
        "              optimizer=opt,\n",
        "              metrics=['accuracy'])\n",
        "\n",
        "# Train the model over 50 epochs using 10-observation batches and using the test holdout dataset for validation\n",
        "num_epochs = 50\n",
        "history = model.fit(x_train, y_train, epochs=num_epochs, batch_size=10, validation_data=(x_test, y_test))"
      ],
      "metadata": {
        "colab": {
          "base_uri": "https://localhost:8080/"
        },
        "id": "FnBb-Pwsz0rb",
        "outputId": "27715dff-3229-4e45-aff6-ce77fd5698ba"
      },
      "execution_count": 23,
      "outputs": [
        {
          "output_type": "stream",
          "name": "stdout",
          "text": [
            "Epoch 1/50\n"
          ]
        },
        {
          "output_type": "stream",
          "name": "stderr",
          "text": [
            "/usr/local/lib/python3.7/dist-packages/keras/optimizer_v2/adam.py:105: UserWarning: The `lr` argument is deprecated, use `learning_rate` instead.\n",
            "  super(Adam, self).__init__(name, **kwargs)\n"
          ]
        },
        {
          "output_type": "stream",
          "name": "stdout",
          "text": [
            "2688/2688 [==============================] - 6s 2ms/step - loss: 0.3243 - accuracy: 0.8798 - val_loss: 0.1232 - val_accuracy: 0.9586\n",
            "Epoch 2/50\n",
            "2688/2688 [==============================] - 6s 2ms/step - loss: 0.1125 - accuracy: 0.9590 - val_loss: 0.1136 - val_accuracy: 0.9586\n",
            "Epoch 3/50\n",
            "2688/2688 [==============================] - 6s 2ms/step - loss: 0.1071 - accuracy: 0.9596 - val_loss: 0.1111 - val_accuracy: 0.9586\n",
            "Epoch 4/50\n",
            "2688/2688 [==============================] - 7s 3ms/step - loss: 0.1048 - accuracy: 0.9599 - val_loss: 0.1055 - val_accuracy: 0.9586\n",
            "Epoch 5/50\n",
            "2688/2688 [==============================] - 6s 2ms/step - loss: 0.1029 - accuracy: 0.9603 - val_loss: 0.1027 - val_accuracy: 0.9586\n",
            "Epoch 6/50\n",
            "2688/2688 [==============================] - 5s 2ms/step - loss: 0.1007 - accuracy: 0.9603 - val_loss: 0.1008 - val_accuracy: 0.9586\n",
            "Epoch 7/50\n",
            "2688/2688 [==============================] - 6s 2ms/step - loss: 0.0994 - accuracy: 0.9609 - val_loss: 0.1011 - val_accuracy: 0.9583\n",
            "Epoch 8/50\n",
            "2688/2688 [==============================] - 6s 2ms/step - loss: 0.0973 - accuracy: 0.9615 - val_loss: 0.0973 - val_accuracy: 0.9586\n",
            "Epoch 9/50\n",
            "2688/2688 [==============================] - 6s 2ms/step - loss: 0.0955 - accuracy: 0.9612 - val_loss: 0.0990 - val_accuracy: 0.9586\n",
            "Epoch 10/50\n",
            "2688/2688 [==============================] - 6s 2ms/step - loss: 0.0936 - accuracy: 0.9618 - val_loss: 0.0975 - val_accuracy: 0.9586\n",
            "Epoch 11/50\n",
            "2688/2688 [==============================] - 6s 2ms/step - loss: 0.0910 - accuracy: 0.9622 - val_loss: 0.0910 - val_accuracy: 0.9656\n",
            "Epoch 12/50\n",
            "2688/2688 [==============================] - 6s 2ms/step - loss: 0.0884 - accuracy: 0.9628 - val_loss: 0.0883 - val_accuracy: 0.9656\n",
            "Epoch 13/50\n",
            "2688/2688 [==============================] - 6s 2ms/step - loss: 0.0871 - accuracy: 0.9625 - val_loss: 0.0872 - val_accuracy: 0.9656\n",
            "Epoch 14/50\n",
            "2688/2688 [==============================] - 6s 2ms/step - loss: 0.0840 - accuracy: 0.9625 - val_loss: 0.0831 - val_accuracy: 0.9583\n",
            "Epoch 15/50\n",
            "2688/2688 [==============================] - 6s 2ms/step - loss: 0.0810 - accuracy: 0.9628 - val_loss: 0.0820 - val_accuracy: 0.9656\n",
            "Epoch 16/50\n",
            "2688/2688 [==============================] - 6s 2ms/step - loss: 0.0784 - accuracy: 0.9634 - val_loss: 0.0778 - val_accuracy: 0.9656\n",
            "Epoch 17/50\n",
            "2688/2688 [==============================] - 6s 2ms/step - loss: 0.0748 - accuracy: 0.9640 - val_loss: 0.0759 - val_accuracy: 0.9646\n",
            "Epoch 18/50\n",
            "2688/2688 [==============================] - 6s 2ms/step - loss: 0.0715 - accuracy: 0.9644 - val_loss: 0.0699 - val_accuracy: 0.9583\n",
            "Epoch 19/50\n",
            "2688/2688 [==============================] - 6s 2ms/step - loss: 0.0689 - accuracy: 0.9655 - val_loss: 0.0665 - val_accuracy: 0.9646\n",
            "Epoch 20/50\n",
            "2688/2688 [==============================] - 6s 2ms/step - loss: 0.0649 - accuracy: 0.9664 - val_loss: 0.0871 - val_accuracy: 0.9666\n",
            "Epoch 21/50\n",
            "2688/2688 [==============================] - 6s 2ms/step - loss: 0.0624 - accuracy: 0.9675 - val_loss: 0.0804 - val_accuracy: 0.9666\n",
            "Epoch 22/50\n",
            "2688/2688 [==============================] - 6s 2ms/step - loss: 0.0598 - accuracy: 0.9696 - val_loss: 0.0658 - val_accuracy: 0.9657\n",
            "Epoch 23/50\n",
            "2688/2688 [==============================] - 6s 2ms/step - loss: 0.0582 - accuracy: 0.9716 - val_loss: 0.0550 - val_accuracy: 0.9646\n",
            "Epoch 24/50\n",
            "2688/2688 [==============================] - 6s 2ms/step - loss: 0.0559 - accuracy: 0.9722 - val_loss: 0.0535 - val_accuracy: 0.9716\n",
            "Epoch 25/50\n",
            "2688/2688 [==============================] - 6s 2ms/step - loss: 0.0539 - accuracy: 0.9746 - val_loss: 0.0515 - val_accuracy: 0.9716\n",
            "Epoch 26/50\n",
            "2688/2688 [==============================] - 6s 2ms/step - loss: 0.0530 - accuracy: 0.9742 - val_loss: 0.0632 - val_accuracy: 0.9725\n",
            "Epoch 27/50\n",
            "2688/2688 [==============================] - 6s 2ms/step - loss: 0.0523 - accuracy: 0.9763 - val_loss: 0.0504 - val_accuracy: 0.9859\n",
            "Epoch 28/50\n",
            "2688/2688 [==============================] - 5s 2ms/step - loss: 0.0511 - accuracy: 0.9751 - val_loss: 0.0493 - val_accuracy: 0.9716\n",
            "Epoch 29/50\n",
            "2688/2688 [==============================] - 5s 2ms/step - loss: 0.0509 - accuracy: 0.9760 - val_loss: 0.0481 - val_accuracy: 0.9716\n",
            "Epoch 30/50\n",
            "2688/2688 [==============================] - 5s 2ms/step - loss: 0.0514 - accuracy: 0.9753 - val_loss: 0.0498 - val_accuracy: 0.9716\n",
            "Epoch 31/50\n",
            "2688/2688 [==============================] - 5s 2ms/step - loss: 0.0494 - accuracy: 0.9767 - val_loss: 0.0552 - val_accuracy: 0.9657\n",
            "Epoch 32/50\n",
            "2688/2688 [==============================] - 5s 2ms/step - loss: 0.0496 - accuracy: 0.9764 - val_loss: 0.0464 - val_accuracy: 0.9859\n",
            "Epoch 33/50\n",
            "2688/2688 [==============================] - 5s 2ms/step - loss: 0.0484 - accuracy: 0.9785 - val_loss: 0.0530 - val_accuracy: 0.9657\n",
            "Epoch 34/50\n",
            "2688/2688 [==============================] - 5s 2ms/step - loss: 0.0485 - accuracy: 0.9784 - val_loss: 0.0466 - val_accuracy: 0.9716\n",
            "Epoch 35/50\n",
            "2688/2688 [==============================] - 5s 2ms/step - loss: 0.0482 - accuracy: 0.9780 - val_loss: 0.0593 - val_accuracy: 0.9657\n",
            "Epoch 36/50\n",
            "2688/2688 [==============================] - 5s 2ms/step - loss: 0.0476 - accuracy: 0.9788 - val_loss: 0.0501 - val_accuracy: 0.9716\n",
            "Epoch 37/50\n",
            "2688/2688 [==============================] - 5s 2ms/step - loss: 0.0474 - accuracy: 0.9791 - val_loss: 0.0496 - val_accuracy: 0.9799\n",
            "Epoch 38/50\n",
            "2688/2688 [==============================] - 5s 2ms/step - loss: 0.0482 - accuracy: 0.9784 - val_loss: 0.0447 - val_accuracy: 0.9859\n",
            "Epoch 39/50\n",
            "2688/2688 [==============================] - 5s 2ms/step - loss: 0.0476 - accuracy: 0.9788 - val_loss: 0.0436 - val_accuracy: 0.9859\n",
            "Epoch 40/50\n",
            "2688/2688 [==============================] - 5s 2ms/step - loss: 0.0474 - accuracy: 0.9791 - val_loss: 0.0478 - val_accuracy: 0.9859\n",
            "Epoch 41/50\n",
            "2688/2688 [==============================] - 5s 2ms/step - loss: 0.0473 - accuracy: 0.9795 - val_loss: 0.0565 - val_accuracy: 0.9657\n",
            "Epoch 42/50\n",
            "2688/2688 [==============================] - 5s 2ms/step - loss: 0.0472 - accuracy: 0.9793 - val_loss: 0.0431 - val_accuracy: 0.9859\n",
            "Epoch 43/50\n",
            "2688/2688 [==============================] - 6s 2ms/step - loss: 0.0465 - accuracy: 0.9788 - val_loss: 0.0595 - val_accuracy: 0.9735\n",
            "Epoch 44/50\n",
            "2688/2688 [==============================] - 5s 2ms/step - loss: 0.0472 - accuracy: 0.9785 - val_loss: 0.0428 - val_accuracy: 0.9859\n",
            "Epoch 45/50\n",
            "2688/2688 [==============================] - 5s 2ms/step - loss: 0.0460 - accuracy: 0.9792 - val_loss: 0.0428 - val_accuracy: 0.9859\n",
            "Epoch 46/50\n",
            "2688/2688 [==============================] - 5s 2ms/step - loss: 0.0460 - accuracy: 0.9801 - val_loss: 0.0426 - val_accuracy: 0.9859\n",
            "Epoch 47/50\n",
            "2688/2688 [==============================] - 5s 2ms/step - loss: 0.0466 - accuracy: 0.9798 - val_loss: 0.0437 - val_accuracy: 0.9859\n",
            "Epoch 48/50\n",
            "2688/2688 [==============================] - 5s 2ms/step - loss: 0.0461 - accuracy: 0.9798 - val_loss: 0.0456 - val_accuracy: 0.9859\n",
            "Epoch 49/50\n",
            "2688/2688 [==============================] - 5s 2ms/step - loss: 0.0465 - accuracy: 0.9788 - val_loss: 0.0478 - val_accuracy: 0.9716\n",
            "Epoch 50/50\n",
            "2688/2688 [==============================] - 5s 2ms/step - loss: 0.0458 - accuracy: 0.9799 - val_loss: 0.0621 - val_accuracy: 0.9725\n"
          ]
        }
      ]
    },
    {
      "cell_type": "code",
      "source": [
        "%matplotlib inline\n",
        "from matplotlib import pyplot as plt\n",
        "\n",
        "epoch_nums = range(1,num_epochs+1)\n",
        "training_loss = history.history[\"loss\"]\n",
        "validation_loss = history.history[\"val_loss\"]\n",
        "plt.plot(epoch_nums, training_loss)\n",
        "plt.plot(epoch_nums, validation_loss)\n",
        "plt.xlabel('epoch')\n",
        "plt.ylabel('loss')\n",
        "plt.legend(['training', 'validation'], loc='upper right')\n",
        "plt.show()"
      ],
      "metadata": {
        "colab": {
          "base_uri": "https://localhost:8080/",
          "height": 279
        },
        "id": "CCr7XLqQ0Hkj",
        "outputId": "481c6746-48b7-48fa-f008-1e32ab0e4a7b"
      },
      "execution_count": 24,
      "outputs": [
        {
          "output_type": "display_data",
          "data": {
            "text/plain": [
              "<Figure size 432x288 with 1 Axes>"
            ],
            "image/png": "[encoded data removed]"
          },
          "metadata": {
            "needs_background": "light"
          }
        }
      ]
    },
    {
      "cell_type": "code",
      "source": [
        "for layer in model.layers:\n",
        "    weights = layer.get_weights()[0]\n",
        "    biases = layer.get_weights()[1]\n",
        "    print('------------\\nWeights:\\n',weights,'\\nBiases:\\n', biases)"
      ],
      "metadata": {
        "colab": {
          "base_uri": "https://localhost:8080/"
        },
        "id": "1jujPYIl3Vfh",
        "outputId": "7ac60ebe-4da9-4936-f405-2a712f2b9f86"
      },
      "execution_count": 25,
      "outputs": [
        {
          "output_type": "stream",
          "name": "stdout",
          "text": [
            "------------\n",
            "Weights:\n",
            " [[-0.76332515  0.21756291 -0.62591016  0.10297035  1.462063   -0.36591646\n",
            "   1.0592167  -0.29799902 -0.35769516 -1.0972143 ]\n",
            " [-3.5527735   0.3755176  -0.6403892  -3.9012547   3.5589592  -3.9422626\n",
            "   3.4756806  -3.8266895   0.5428302  -4.1031156 ]\n",
            " [ 4.188578   -0.2043052   0.30341795  4.498994   -3.3891118   4.5879016\n",
            "  -2.9588602   4.509561   -0.0636822   4.6627617 ]\n",
            " [ 0.05131055 -0.62259984  0.07935909  0.30148005  0.24184918  0.4079937\n",
            "   0.72899544  0.8563242  -0.18527776  0.3261674 ]] \n",
            "Biases:\n",
            " [-0.08740044  0.         -0.15620933 -0.07553909  0.67340356 -0.09400267\n",
            "  0.1511992  -0.26471773  0.         -0.06389883]\n",
            "------------\n",
            "Weights:\n",
            " [[-0.4895427  -0.34042776  0.46071115 -0.55263096  3.988368    0.10352981\n",
            "   4.952001   -4.8331466  -5.200517    0.3494907 ]\n",
            " [-0.42790762  0.4142859   0.28268427 -0.33801395 -0.02485991  0.32932627\n",
            "  -0.22083947 -0.17231965 -0.28950223  0.17770809]\n",
            " [ 0.05818039 -0.33661288 -0.2941931  -0.12000748 -0.2748465  -0.31182128\n",
            "   0.01473458  0.22133568 -0.13326226  0.49296016]\n",
            " [-0.51933986  0.1607778  -0.2564525   0.49571532  2.2457209  -0.01446605\n",
            "   0.9818983  -0.5907264  -1.242495    0.34233925]\n",
            " [-0.52640146 -0.53680146 -0.61211693  0.13489333 -0.45532647 -0.10681707\n",
            "  -0.8558631   1.3998038   1.309506   -0.2558427 ]\n",
            " [-0.36081892  0.13578838 -0.55436766 -0.35675934  2.0324671  -0.31091172\n",
            "   0.7243014  -0.8797804  -0.74922407 -0.43083653]\n",
            " [-0.5152526   0.1973049   0.39042288 -0.15048502  0.4813359   0.11390877\n",
            "   0.06809076  0.52180433  0.8432226  -0.5607599 ]\n",
            " [ 0.01843268 -0.46301547  0.24211499  0.18572438  1.5264521  -0.46284539\n",
            "   0.20108931 -0.6857762  -0.46171007  0.31439987]\n",
            " [-0.10535139  0.11366785 -0.27426663 -0.2920794   0.05473489  0.1660487\n",
            "   0.35530996 -0.32496086  0.25119656 -0.05870157]\n",
            " [-0.2027325   0.14266473 -0.23723455 -0.3697582   1.4606007   0.2722476\n",
            "   0.39184102 -1.0794924  -1.2383701  -0.43181747]] \n",
            "Biases:\n",
            " [ 0.          0.         -0.04982977 -0.06069613 -0.48751655 -0.01345246\n",
            " -0.17578954  0.82240105  0.59852284 -0.045874  ]\n",
            "------------\n",
            "Weights:\n",
            " [[ 3.7583756e-01  4.7811365e-01  4.4719756e-01]\n",
            " [-7.5183511e-03 -3.6872366e-01  9.4598055e-02]\n",
            " [ 2.9104093e-01 -5.0707150e-01 -1.7830115e-02]\n",
            " [ 2.9494804e-01  5.2831507e-01  3.5799399e-01]\n",
            " [-1.3122566e+01 -2.8648737e-01  6.0200733e-01]\n",
            " [-3.6655530e-02  5.2280629e-01  3.4068760e-01]\n",
            " [ 3.6761165e-01 -2.4727771e+00  1.9342501e+00]\n",
            " [ 5.3478694e+00  1.2472110e+00 -4.1028948e+00]\n",
            " [ 5.8341470e+00  2.7163241e+00 -3.9815977e+00]\n",
            " [ 3.9490587e-01 -2.8471106e-01 -1.4219736e-01]] \n",
            "Biases:\n",
            " [ 1.5466794  -0.01641602 -0.17345458]\n"
          ]
        }
      ]
    },
    {
      "cell_type": "code",
      "source": [
        "# Tensorflow doesn't have a built-in confusion matrix metric, so we'll use SciKit-Learn\n",
        "import numpy as np\n",
        "from sklearn.metrics import confusion_matrix\n",
        "import matplotlib.pyplot as plt\n",
        "%matplotlib inline\n",
        "\n",
        "\n",
        "class_probabilities = model.predict(x_test)\n",
        "predictions = np.argmax(class_probabilities, axis=1)\n",
        "true_labels = np.argmax(y_test, axis=1)\n",
        "\n",
        "# Plot the confusion matrix\n",
        "cm = confusion_matrix(true_labels, predictions)\n",
        "plt.imshow(cm, interpolation=\"nearest\", cmap=plt.cm.Blues)\n",
        "plt.colorbar()\n",
        "tick_marks = np.arange(len(Iris_class))\n",
        "plt.xticks(tick_marks, Iris_class, rotation=85)\n",
        "plt.yticks(tick_marks, Iris_class)\n",
        "plt.xlabel(\"Predicted Species\")\n",
        "plt.ylabel(\"Actual Species\")\n",
        "plt.show()"
      ],
      "metadata": {
        "colab": {
          "base_uri": "https://localhost:8080/",
          "height": 319
        },
        "id": "ZSVuqw3135ND",
        "outputId": "65b9515f-281c-45c6-ef05-cf19c80c8a14"
      },
      "execution_count": 26,
      "outputs": [
        {
          "output_type": "display_data",
          "data": {
            "text/plain": [
              "<Figure size 432x288 with 2 Axes>"
            ],
            "image/png": "[encoded data removed]"
          },
          "metadata": {
            "needs_background": "light"
          }
        }
      ]
    },
    {
      "cell_type": "code",
      "source": [
        " #Save the trained model\n",
        "modelFileName = 'models/iris-classifier'\n",
        "model.save(modelFileName)\n",
        "del model  # deletes the existing model variable\n",
        "print('model saved as', modelFileName)"
      ],
      "metadata": {
        "colab": {
          "base_uri": "https://localhost:8080/"
        },
        "id": "bJajwNsE4OTs",
        "outputId": "aecfea72-8509-4670-f08f-15e49747c4a2"
      },
      "execution_count": 28,
      "outputs": [
        {
          "output_type": "stream",
          "name": "stdout",
          "text": [
            "INFO:tensorflow:Assets written to: models/iris-classifier/assets\n",
            "model saved as models/iris-classifier\n"
          ]
        }
      ]
    },
    {
      "cell_type": "code",
      "source": [
        "# Load the saved model\n",
        "model = models.load_model(modelFileName)\n",
        "\n",
        "# CReate a new array of features\n",
        "x_new = np.array([[50.4,15.3,20,50]])\n",
        "print ('New sample: {}'.format(x_new))\n",
        "\n",
        "# Use the model to predict the class\n",
        "class_probabilities = model.predict(x_new)\n",
        "predictions = np.argmax(class_probabilities, axis=1)\n",
        "\n",
        "print(Iris_class[predictions[0]])"
      ],
      "metadata": {
        "colab": {
          "base_uri": "https://localhost:8080/"
        },
        "id": "4xDPkCoo4U1Y",
        "outputId": "f75b337a-3100-4628-ad69-3570a3b297f0"
      },
      "execution_count": 29,
      "outputs": [
        {
          "output_type": "stream",
          "name": "stdout",
          "text": [
            "New sample: [[50.4 15.3 20.  50. ]]\n",
            "virginica\n"
          ]
        }
      ]
    },
    {
      "cell_type": "code",
      "source": [
        ""
      ],
      "metadata": {
        "id": "W5a6q6er4eqn"
      },
      "execution_count": null,
      "outputs": []
    }
  ]
}