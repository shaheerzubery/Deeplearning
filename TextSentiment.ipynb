{
  "nbformat": 4,
  "nbformat_minor": 0,
  "metadata": {
    "colab": {
      "name": "TextSentiment.ipynb",
      "provenance": [],
      "collapsed_sections": [],
      "authorship_tag": "ABX9TyOBYai2E38tDocEj+ofLtI5",
      "include_colab_link": true
    },
    "kernelspec": {
      "name": "python3",
      "display_name": "Python 3"
    },
    "language_info": {
      "name": "python"
    }
  },
  "cells": [
    {
      "cell_type": "markdown",
      "metadata": {
        "id": "view-in-github",
        "colab_type": "text"
      },
      "source": [
        "<a href=\"https://colab.research.google.com/github/shaheerzubery/Deeplearning/blob/main/TextSentiment.ipynb\" target=\"_parent\"><img src=\"https://colab.research.google.com/assets/colab-badge.svg\" alt=\"Open In Colab\"/></a>"
      ]
    },
    {
      "cell_type": "markdown",
      "source": [
        "### **Sentiment Analysis of IMDB data Set**"
      ],
      "metadata": {
        "id": "QK1VVmXSbD3j"
      }
    },
    {
      "cell_type": "code",
      "source": [
        "import tensorflow as tf"
      ],
      "metadata": {
        "id": "xe6sz4XobZ5f"
      },
      "execution_count": null,
      "outputs": []
    },
    {
      "cell_type": "code",
      "source": [
        "import tensorflow.keras as keras\n",
        "import numpy as np\n",
        "import pandas as pd\n",
        "import matplotlib.pyplot as plt"
      ],
      "metadata": {
        "id": "sMjVQWhZbkRw"
      },
      "execution_count": null,
      "outputs": []
    },
    {
      "cell_type": "markdown",
      "source": [
        "### **Import The Data File**"
      ],
      "metadata": {
        "id": "5vLchVIWboLP"
      }
    },
    {
      "cell_type": "code",
      "source": [
        "imdb_reviews = pd.read_csv(\"/content/imdb_reviews.csv\")\n",
        "Test_reviews = pd.read_csv(\"/content/test_reviews.csv\")"
      ],
      "metadata": {
        "id": "Gn8zm-2pbtCK"
      },
      "execution_count": null,
      "outputs": []
    },
    {
      "cell_type": "code",
      "source": [
        "imdb_reviews.head()"
      ],
      "metadata": {
        "colab": {
          "base_uri": "https://localhost:8080/",
          "height": 206
        },
        "id": "VvfJ16lKe1OP",
        "outputId": "19a3ec5f-5c3d-403d-adca-255fc461e486"
      },
      "execution_count": null,
      "outputs": [
        {
          "output_type": "execute_result",
          "data": {
            "text/html": [
              "\n",
              "  <div id=\"df-e1e7fcb6-e596-400c-92da-c2715a6343ff\">\n",
              "    <div class=\"colab-df-container\">\n",
              "      <div>\n",
              "<style scoped>\n",
              "    .dataframe tbody tr th:only-of-type {\n",
              "        vertical-align: middle;\n",
              "    }\n",
              "\n",
              "    .dataframe tbody tr th {\n",
              "        vertical-align: top;\n",
              "    }\n",
              "\n",
              "    .dataframe thead th {\n",
              "        text-align: right;\n",
              "    }\n",
              "</style>\n",
              "<table border=\"1\" class=\"dataframe\">\n",
              "  <thead>\n",
              "    <tr style=\"text-align: right;\">\n",
              "      <th></th>\n",
              "      <th>Reviews</th>\n",
              "      <th>Sentiment</th>\n",
              "    </tr>\n",
              "  </thead>\n",
              "  <tbody>\n",
              "    <tr>\n",
              "      <th>0</th>\n",
              "      <td>&lt;START this film was just brilliant casting lo...</td>\n",
              "      <td>positive</td>\n",
              "    </tr>\n",
              "    <tr>\n",
              "      <th>1</th>\n",
              "      <td>&lt;START big hair big boobs bad music and a gian...</td>\n",
              "      <td>negative</td>\n",
              "    </tr>\n",
              "    <tr>\n",
              "      <th>2</th>\n",
              "      <td>&lt;START this has to be one of the worst films o...</td>\n",
              "      <td>negative</td>\n",
              "    </tr>\n",
              "    <tr>\n",
              "      <th>3</th>\n",
              "      <td>&lt;START the &lt;UNK&gt; &lt;UNK&gt; at storytelling the tra...</td>\n",
              "      <td>positive</td>\n",
              "    </tr>\n",
              "    <tr>\n",
              "      <th>4</th>\n",
              "      <td>&lt;START worst mistake of my life br br i picked...</td>\n",
              "      <td>negative</td>\n",
              "    </tr>\n",
              "  </tbody>\n",
              "</table>\n",
              "</div>\n",
              "      <button class=\"colab-df-convert\" onclick=\"convertToInteractive('df-e1e7fcb6-e596-400c-92da-c2715a6343ff')\"\n",
              "              title=\"Convert this dataframe to an interactive table.\"\n",
              "              style=\"display:none;\">\n",
              "        \n",
              "  <svg xmlns=\"http://www.w3.org/2000/svg\" height=\"24px\"viewBox=\"0 0 24 24\"\n",
              "       width=\"24px\">\n",
              "    <path d=\"M0 0h24v24H0V0z\" fill=\"none\"/>\n",
              "    <path d=\"M18.56 5.44l.94 2.06.94-2.06 2.06-.94-2.06-.94-.94-2.06-.94 2.06-2.06.94zm-11 1L8.5 8.5l.94-2.06 2.06-.94-2.06-.94L8.5 2.5l-.94 2.06-2.06.94zm10 10l.94 2.06.94-2.06 2.06-.94-2.06-.94-.94-2.06-.94 2.06-2.06.94z\"/><path d=\"M17.41 7.96l-1.37-1.37c-.4-.4-.92-.59-1.43-.59-.52 0-1.04.2-1.43.59L10.3 9.45l-7.72 7.72c-.78.78-.78 2.05 0 2.83L4 21.41c.39.39.9.59 1.41.59.51 0 1.02-.2 1.41-.59l7.78-7.78 2.81-2.81c.8-.78.8-2.07 0-2.86zM5.41 20L4 18.59l7.72-7.72 1.47 1.35L5.41 20z\"/>\n",
              "  </svg>\n",
              "      </button>\n",
              "      \n",
              "  <style>\n",
              "    .colab-df-container {\n",
              "      display:flex;\n",
              "      flex-wrap:wrap;\n",
              "      gap: 12px;\n",
              "    }\n",
              "\n",
              "    .colab-df-convert {\n",
              "      background-color: #E8F0FE;\n",
              "      border: none;\n",
              "      border-radius: 50%;\n",
              "      cursor: pointer;\n",
              "      display: none;\n",
              "      fill: #1967D2;\n",
              "      height: 32px;\n",
              "      padding: 0 0 0 0;\n",
              "      width: 32px;\n",
              "    }\n",
              "\n",
              "    .colab-df-convert:hover {\n",
              "      background-color: #E2EBFA;\n",
              "      box-shadow: 0px 1px 2px rgba(60, 64, 67, 0.3), 0px 1px 3px 1px rgba(60, 64, 67, 0.15);\n",
              "      fill: #174EA6;\n",
              "    }\n",
              "\n",
              "    [theme=dark] .colab-df-convert {\n",
              "      background-color: #3B4455;\n",
              "      fill: #D2E3FC;\n",
              "    }\n",
              "\n",
              "    [theme=dark] .colab-df-convert:hover {\n",
              "      background-color: #434B5C;\n",
              "      box-shadow: 0px 1px 3px 1px rgba(0, 0, 0, 0.15);\n",
              "      filter: drop-shadow(0px 1px 2px rgba(0, 0, 0, 0.3));\n",
              "      fill: #FFFFFF;\n",
              "    }\n",
              "  </style>\n",
              "\n",
              "      <script>\n",
              "        const buttonEl =\n",
              "          document.querySelector('#df-e1e7fcb6-e596-400c-92da-c2715a6343ff button.colab-df-convert');\n",
              "        buttonEl.style.display =\n",
              "          google.colab.kernel.accessAllowed ? 'block' : 'none';\n",
              "\n",
              "        async function convertToInteractive(key) {\n",
              "          const element = document.querySelector('#df-e1e7fcb6-e596-400c-92da-c2715a6343ff');\n",
              "          const dataTable =\n",
              "            await google.colab.kernel.invokeFunction('convertToInteractive',\n",
              "                                                     [key], {});\n",
              "          if (!dataTable) return;\n",
              "\n",
              "          const docLinkHtml = 'Like what you see? Visit the ' +\n",
              "            '<a target=\"_blank\" href=https://colab.research.google.com/notebooks/data_table.ipynb>data table notebook</a>'\n",
              "            + ' to learn more about interactive tables.';\n",
              "          element.innerHTML = '';\n",
              "          dataTable['output_type'] = 'display_data';\n",
              "          await google.colab.output.renderOutput(dataTable, element);\n",
              "          const docLink = document.createElement('div');\n",
              "          docLink.innerHTML = docLinkHtml;\n",
              "          element.appendChild(docLink);\n",
              "        }\n",
              "      </script>\n",
              "    </div>\n",
              "  </div>\n",
              "  "
            ],
            "text/plain": [
              "                                             Reviews Sentiment\n",
              "0  <START this film was just brilliant casting lo...  positive\n",
              "1  <START big hair big boobs bad music and a gian...  negative\n",
              "2  <START this has to be one of the worst films o...  negative\n",
              "3  <START the <UNK> <UNK> at storytelling the tra...  positive\n",
              "4  <START worst mistake of my life br br i picked...  negative"
            ]
          },
          "metadata": {},
          "execution_count": 16
        }
      ]
    },
    {
      "cell_type": "code",
      "source": [
        "Test_reviews.head()"
      ],
      "metadata": {
        "id": "rkJZvb9Fe5sG"
      },
      "execution_count": null,
      "outputs": []
    },
    {
      "cell_type": "markdown",
      "source": [
        "### **Preprocessing the data**\n",
        "We can not pass the string data to our model directly, so we need to transform the string data into integer format.For this we can map each distinct word as a distinct integer for eg.{'this':14 , 'the':1}.We already have a file that contains the mapping from words to integers so we are going to load that file."
      ],
      "metadata": {
        "id": "BT8JSUHsfELq"
      }
    },
    {
      "cell_type": "markdown",
      "source": [
        "Now we import the file in which we define words into integers/indexs\n"
      ],
      "metadata": {
        "id": "-CHHKrJRfMaH"
      }
    },
    {
      "cell_type": "code",
      "source": [
        "word_index = pd.read_csv(\"/content/word_indexes.csv\")"
      ],
      "metadata": {
        "id": "w4GEYRnTfJmc"
      },
      "execution_count": null,
      "outputs": []
    },
    {
      "cell_type": "code",
      "source": [
        "word_index.head()"
      ],
      "metadata": {
        "colab": {
          "base_uri": "https://localhost:8080/",
          "height": 206
        },
        "id": "16ZvakPxfv0R",
        "outputId": "2e174092-711e-4009-e39d-94185eafee49"
      },
      "execution_count": null,
      "outputs": [
        {
          "output_type": "execute_result",
          "data": {
            "text/html": [
              "\n",
              "  <div id=\"df-88c7d72a-1749-487c-9736-f18c2755d166\">\n",
              "    <div class=\"colab-df-container\">\n",
              "      <div>\n",
              "<style scoped>\n",
              "    .dataframe tbody tr th:only-of-type {\n",
              "        vertical-align: middle;\n",
              "    }\n",
              "\n",
              "    .dataframe tbody tr th {\n",
              "        vertical-align: top;\n",
              "    }\n",
              "\n",
              "    .dataframe thead th {\n",
              "        text-align: right;\n",
              "    }\n",
              "</style>\n",
              "<table border=\"1\" class=\"dataframe\">\n",
              "  <thead>\n",
              "    <tr style=\"text-align: right;\">\n",
              "      <th></th>\n",
              "      <th>Words</th>\n",
              "      <th>Indexes</th>\n",
              "    </tr>\n",
              "  </thead>\n",
              "  <tbody>\n",
              "    <tr>\n",
              "      <th>0</th>\n",
              "      <td>tsukino</td>\n",
              "      <td>52009</td>\n",
              "    </tr>\n",
              "    <tr>\n",
              "      <th>1</th>\n",
              "      <td>nunnery</td>\n",
              "      <td>52010</td>\n",
              "    </tr>\n",
              "    <tr>\n",
              "      <th>2</th>\n",
              "      <td>sonja</td>\n",
              "      <td>16819</td>\n",
              "    </tr>\n",
              "    <tr>\n",
              "      <th>3</th>\n",
              "      <td>vani</td>\n",
              "      <td>63954</td>\n",
              "    </tr>\n",
              "    <tr>\n",
              "      <th>4</th>\n",
              "      <td>woods</td>\n",
              "      <td>1411</td>\n",
              "    </tr>\n",
              "  </tbody>\n",
              "</table>\n",
              "</div>\n",
              "      <button class=\"colab-df-convert\" onclick=\"convertToInteractive('df-88c7d72a-1749-487c-9736-f18c2755d166')\"\n",
              "              title=\"Convert this dataframe to an interactive table.\"\n",
              "              style=\"display:none;\">\n",
              "        \n",
              "  <svg xmlns=\"http://www.w3.org/2000/svg\" height=\"24px\"viewBox=\"0 0 24 24\"\n",
              "       width=\"24px\">\n",
              "    <path d=\"M0 0h24v24H0V0z\" fill=\"none\"/>\n",
              "    <path d=\"M18.56 5.44l.94 2.06.94-2.06 2.06-.94-2.06-.94-.94-2.06-.94 2.06-2.06.94zm-11 1L8.5 8.5l.94-2.06 2.06-.94-2.06-.94L8.5 2.5l-.94 2.06-2.06.94zm10 10l.94 2.06.94-2.06 2.06-.94-2.06-.94-.94-2.06-.94 2.06-2.06.94z\"/><path d=\"M17.41 7.96l-1.37-1.37c-.4-.4-.92-.59-1.43-.59-.52 0-1.04.2-1.43.59L10.3 9.45l-7.72 7.72c-.78.78-.78 2.05 0 2.83L4 21.41c.39.39.9.59 1.41.59.51 0 1.02-.2 1.41-.59l7.78-7.78 2.81-2.81c.8-.78.8-2.07 0-2.86zM5.41 20L4 18.59l7.72-7.72 1.47 1.35L5.41 20z\"/>\n",
              "  </svg>\n",
              "      </button>\n",
              "      \n",
              "  <style>\n",
              "    .colab-df-container {\n",
              "      display:flex;\n",
              "      flex-wrap:wrap;\n",
              "      gap: 12px;\n",
              "    }\n",
              "\n",
              "    .colab-df-convert {\n",
              "      background-color: #E8F0FE;\n",
              "      border: none;\n",
              "      border-radius: 50%;\n",
              "      cursor: pointer;\n",
              "      display: none;\n",
              "      fill: #1967D2;\n",
              "      height: 32px;\n",
              "      padding: 0 0 0 0;\n",
              "      width: 32px;\n",
              "    }\n",
              "\n",
              "    .colab-df-convert:hover {\n",
              "      background-color: #E2EBFA;\n",
              "      box-shadow: 0px 1px 2px rgba(60, 64, 67, 0.3), 0px 1px 3px 1px rgba(60, 64, 67, 0.15);\n",
              "      fill: #174EA6;\n",
              "    }\n",
              "\n",
              "    [theme=dark] .colab-df-convert {\n",
              "      background-color: #3B4455;\n",
              "      fill: #D2E3FC;\n",
              "    }\n",
              "\n",
              "    [theme=dark] .colab-df-convert:hover {\n",
              "      background-color: #434B5C;\n",
              "      box-shadow: 0px 1px 3px 1px rgba(0, 0, 0, 0.15);\n",
              "      filter: drop-shadow(0px 1px 2px rgba(0, 0, 0, 0.3));\n",
              "      fill: #FFFFFF;\n",
              "    }\n",
              "  </style>\n",
              "\n",
              "      <script>\n",
              "        const buttonEl =\n",
              "          document.querySelector('#df-88c7d72a-1749-487c-9736-f18c2755d166 button.colab-df-convert');\n",
              "        buttonEl.style.display =\n",
              "          google.colab.kernel.accessAllowed ? 'block' : 'none';\n",
              "\n",
              "        async function convertToInteractive(key) {\n",
              "          const element = document.querySelector('#df-88c7d72a-1749-487c-9736-f18c2755d166');\n",
              "          const dataTable =\n",
              "            await google.colab.kernel.invokeFunction('convertToInteractive',\n",
              "                                                     [key], {});\n",
              "          if (!dataTable) return;\n",
              "\n",
              "          const docLinkHtml = 'Like what you see? Visit the ' +\n",
              "            '<a target=\"_blank\" href=https://colab.research.google.com/notebooks/data_table.ipynb>data table notebook</a>'\n",
              "            + ' to learn more about interactive tables.';\n",
              "          element.innerHTML = '';\n",
              "          dataTable['output_type'] = 'display_data';\n",
              "          await google.colab.output.renderOutput(dataTable, element);\n",
              "          const docLink = document.createElement('div');\n",
              "          docLink.innerHTML = docLinkHtml;\n",
              "          element.appendChild(docLink);\n",
              "        }\n",
              "      </script>\n",
              "    </div>\n",
              "  </div>\n",
              "  "
            ],
            "text/plain": [
              "     Words  Indexes\n",
              "0  tsukino    52009\n",
              "1  nunnery    52010\n",
              "2    sonja    16819\n",
              "3     vani    63954\n",
              "4    woods     1411"
            ]
          },
          "metadata": {},
          "execution_count": 9
        }
      ]
    },
    {
      "cell_type": "markdown",
      "source": [
        "Next we are going to convert the word_index dataframe into a python dictionary so that we can use it for converting our reviews from string to integer format"
      ],
      "metadata": {
        "id": "_v9DlIShf6Xx"
      }
    },
    {
      "cell_type": "code",
      "source": [
        "word_index = dict(zip(word_index.Words, word_index.Indexes))"
      ],
      "metadata": {
        "id": "1mFk2QRPf1lm"
      },
      "execution_count": null,
      "outputs": []
    },
    {
      "cell_type": "markdown",
      "source": [
        "In the above step we are splitting the two columns\n"
      ],
      "metadata": {
        "id": "3NPZYE6_gPw4"
      }
    },
    {
      "cell_type": "code",
      "source": [
        "word_index[\"<PAD>\"] = 0\n",
        "word_index[\"<START\"] = 1\n",
        "word_index[\"<UNK>\"] = 2\n",
        "word_index[\"UNUSED\"] = 3"
      ],
      "metadata": {
        "id": "ngp1J5wLgW-G"
      },
      "execution_count": null,
      "outputs": []
    },
    {
      "cell_type": "markdown",
      "source": [
        "Now we define a function review_encoder that encodes the reviews into integer format according to the mapping specified by word_index file."
      ],
      "metadata": {
        "id": "vollaNW2hVEQ"
      }
    },
    {
      "cell_type": "code",
      "source": [
        "def review_encoder(text):\n",
        "  arr=[word_index[word] for word in text]\n",
        "  return arr"
      ],
      "metadata": {
        "id": "WdvDt-4Eg5sg"
      },
      "execution_count": null,
      "outputs": []
    },
    {
      "cell_type": "markdown",
      "source": [
        "Now we split the dataset into reviews and Sentiments"
      ],
      "metadata": {
        "id": "Z3cRsIxshqDs"
      }
    },
    {
      "cell_type": "code",
      "source": [
        "train_data,train_labels = imdb_reviews['Reviews'], imdb_reviews['Sentiment']\n",
        "test_data, test_labels = Test_reviews['Reviews'], Test_reviews['Sentiment']"
      ],
      "metadata": {
        "id": "5JfjnNEBhmzU"
      },
      "execution_count": null,
      "outputs": []
    },
    {
      "cell_type": "markdown",
      "source": [
        "Now break the string into Token (Tokenization)"
      ],
      "metadata": {
        "id": "AxXB_AWEjIXx"
      }
    },
    {
      "cell_type": "code",
      "source": [
        "train_data = train_data.apply(lambda review : review.split())\n",
        "test_data = test_data.apply(lambda review : review.split())"
      ],
      "metadata": {
        "id": "RBO8W77kjNaQ"
      },
      "execution_count": null,
      "outputs": []
    },
    {
      "cell_type": "code",
      "source": [
        "train_data[0]"
      ],
      "metadata": {
        "id": "OEPYb1IKkFHn"
      },
      "execution_count": null,
      "outputs": []
    },
    {
      "cell_type": "markdown",
      "source": [
        "as we already tokenized the sentence now we apply review_ecoder to it so that it will convert it into integers\n"
      ],
      "metadata": {
        "id": "C_gc16VAjprb"
      }
    },
    {
      "cell_type": "code",
      "source": [
        "train_data=train_data.apply(review_encoder)\n",
        "test_data=test_data.apply(review_encoder)"
      ],
      "metadata": {
        "id": "E3fDy3rzlmxB"
      },
      "execution_count": null,
      "outputs": []
    },
    {
      "cell_type": "code",
      "source": [
        "train_data.head()"
      ],
      "metadata": {
        "colab": {
          "base_uri": "https://localhost:8080/"
        },
        "id": "4zFmNxMCmoFe",
        "outputId": "5522effd-83d2-4725-ee24-efb1736456cf"
      },
      "execution_count": null,
      "outputs": [
        {
          "output_type": "execute_result",
          "data": {
            "text/plain": [
              "0    [1, 14, 22, 16, 43, 530, 973, 1622, 1385, 65, ...\n",
              "1    [1, 194, 1153, 194, 8255, 78, 228, 5, 6, 1463,...\n",
              "2    [1, 14, 47, 8, 30, 31, 7, 4, 249, 108, 7, 4, 5...\n",
              "3    [1, 4, 2, 2, 33, 2804, 4, 2040, 432, 111, 153,...\n",
              "4    [1, 249, 1323, 7, 61, 113, 10, 10, 13, 1637, 1...\n",
              "Name: Reviews, dtype: object"
            ]
          },
          "metadata": {},
          "execution_count": 34
        }
      ]
    },
    {
      "cell_type": "markdown",
      "source": [
        "now convert sentiments into indexes\n"
      ],
      "metadata": {
        "id": "2f7T12qCnVTO"
      }
    },
    {
      "cell_type": "code",
      "source": [
        "def sentiment_encoder(sentiment):\n",
        "  if sentiment == \"positive\":\n",
        "    return 1\n",
        "  else:\n",
        "    return 0\n",
        "\n",
        "train_labels = train_labels.apply(sentiment_encoder)\n",
        "test_labels = test_labels.apply(sentiment_encoder)\n"
      ],
      "metadata": {
        "id": "dU2sFX9Una9I"
      },
      "execution_count": null,
      "outputs": []
    },
    {
      "cell_type": "markdown",
      "source": [
        "Before giving the review as an input to the model we need to perform following preprocessing steps:\n",
        "\n",
        "The length of each review should be made equal for the model to be working correctly.\n",
        "\n",
        "We have chosen the length of each review to be 300.\n",
        "\n",
        "If the review is longer than 300 words we are going to cut the extra part of the review.\n",
        "\n",
        "If the review is contains less than 500 words we are going to pad the review with zeros to increase its length to 300."
      ],
      "metadata": {
        "id": "OXKtPgrNn_9h"
      }
    },
    {
      "cell_type": "code",
      "source": [
        "train_data = keras.preprocessing.sequence.pad_sequences(train_data, value=word_index[\"<PAD>\"], padding=\"post\" , maxlen=300)\n",
        "test_data = keras.preprocessing.sequence.pad_sequences(test_data, value=word_index[\"<PAD>\"], padding=\"post\" , maxlen=300)"
      ],
      "metadata": {
        "id": "2Hp8O3WqoELx"
      },
      "execution_count": null,
      "outputs": []
    },
    {
      "cell_type": "markdown",
      "source": [
        "### **BUILDING THE MODEL**"
      ],
      "metadata": {
        "id": "wmUX5sMQolY9"
      }
    },
    {
      "cell_type": "markdown",
      "source": [
        "Our model is a neural network and it consits of the following layers :\n",
        "\n",
        "one word embedding layer which creates word embeddings of length 16 from integer encoded review.\n",
        "\n",
        "second layer is global average pooling layer which is used to prevent overfitting by reducing the number of parameters.\n",
        "\n",
        "then a dense layer which has 16 hidden units and uses relu as activation function\n",
        "\n",
        "the final layer is the output layer which uses sigmoid as activation function"
      ],
      "metadata": {
        "id": "yTcKJRbqopMo"
      }
    },
    {
      "cell_type": "code",
      "source": [
        "model=keras.Sequential([keras.layers.Embedding(10000,16, input_length=300),\n",
        "                        keras.layers.GlobalAveragePooling1D(),\n",
        "                        keras.layers.Dense(16, activation='relu'),\n",
        "                        keras.layers.Dense(1,activation='sigmoid')])"
      ],
      "metadata": {
        "id": "8BDfGBnKowtt"
      },
      "execution_count": null,
      "outputs": []
    },
    {
      "cell_type": "markdown",
      "source": [
        "### **compiling the model**\n",
        "Adam is used as optimization function for our model.\n",
        "\n",
        "Binary cross entropy loss function is used as loss function for the model.\n",
        "\n",
        "Accuracy is used as the metric for evaluating the model."
      ],
      "metadata": {
        "id": "1cXhTuxophjH"
      }
    },
    {
      "cell_type": "code",
      "source": [
        "model.compile(optimizer=\"adam\", loss=\"binary_crossentropy\" , metrics=['accuracy'] )"
      ],
      "metadata": {
        "id": "2ryV-xqSpcaw"
      },
      "execution_count": null,
      "outputs": []
    },
    {
      "cell_type": "markdown",
      "source": [
        "Now we will train the model\n"
      ],
      "metadata": {
        "id": "HAQVoSXRp2dW"
      }
    },
    {
      "cell_type": "code",
      "source": [
        "history = model.fit(train_data,train_labels, epochs = 30, batch_size = 512, validation_data=(train_data, train_labels))"
      ],
      "metadata": {
        "colab": {
          "base_uri": "https://localhost:8080/"
        },
        "id": "XpqG0Gtjp46z",
        "outputId": "45570427-3d0c-496f-ada9-fde7c8fd4630"
      },
      "execution_count": null,
      "outputs": [
        {
          "output_type": "stream",
          "name": "stdout",
          "text": [
            "Epoch 1/30\n",
            "49/49 [==============================] - 2s 31ms/step - loss: 0.6908 - accuracy: 0.6129 - val_loss: 0.6862 - val_accuracy: 0.7178\n",
            "Epoch 2/30\n",
            "49/49 [==============================] - 1s 27ms/step - loss: 0.6774 - accuracy: 0.7372 - val_loss: 0.6644 - val_accuracy: 0.7752\n",
            "Epoch 3/30\n",
            "49/49 [==============================] - 1s 26ms/step - loss: 0.6443 - accuracy: 0.7789 - val_loss: 0.6173 - val_accuracy: 0.7970\n",
            "Epoch 4/30\n",
            "49/49 [==============================] - 1s 26ms/step - loss: 0.5855 - accuracy: 0.8085 - val_loss: 0.5477 - val_accuracy: 0.8222\n",
            "Epoch 5/30\n",
            "49/49 [==============================] - 1s 27ms/step - loss: 0.5124 - accuracy: 0.8339 - val_loss: 0.4737 - val_accuracy: 0.8486\n",
            "Epoch 6/30\n",
            "49/49 [==============================] - 1s 27ms/step - loss: 0.4431 - accuracy: 0.8556 - val_loss: 0.4100 - val_accuracy: 0.8666\n",
            "Epoch 7/30\n",
            "49/49 [==============================] - 1s 27ms/step - loss: 0.3869 - accuracy: 0.8710 - val_loss: 0.3622 - val_accuracy: 0.8776\n",
            "Epoch 8/30\n",
            "49/49 [==============================] - 1s 27ms/step - loss: 0.3450 - accuracy: 0.8824 - val_loss: 0.3257 - val_accuracy: 0.8880\n",
            "Epoch 9/30\n",
            "49/49 [==============================] - 1s 27ms/step - loss: 0.3137 - accuracy: 0.8907 - val_loss: 0.3008 - val_accuracy: 0.8936\n",
            "Epoch 10/30\n",
            "49/49 [==============================] - 1s 28ms/step - loss: 0.2894 - accuracy: 0.8976 - val_loss: 0.2773 - val_accuracy: 0.9006\n",
            "Epoch 11/30\n",
            "49/49 [==============================] - 1s 28ms/step - loss: 0.2693 - accuracy: 0.9038 - val_loss: 0.2582 - val_accuracy: 0.9086\n",
            "Epoch 12/30\n",
            "49/49 [==============================] - 1s 28ms/step - loss: 0.2526 - accuracy: 0.9101 - val_loss: 0.2436 - val_accuracy: 0.9138\n",
            "Epoch 13/30\n",
            "49/49 [==============================] - 1s 28ms/step - loss: 0.2386 - accuracy: 0.9153 - val_loss: 0.2297 - val_accuracy: 0.9182\n",
            "Epoch 14/30\n",
            "49/49 [==============================] - 1s 28ms/step - loss: 0.2262 - accuracy: 0.9196 - val_loss: 0.2178 - val_accuracy: 0.9238\n",
            "Epoch 15/30\n",
            "49/49 [==============================] - 1s 27ms/step - loss: 0.2148 - accuracy: 0.9242 - val_loss: 0.2077 - val_accuracy: 0.9281\n",
            "Epoch 16/30\n",
            "49/49 [==============================] - 1s 27ms/step - loss: 0.2057 - accuracy: 0.9280 - val_loss: 0.1979 - val_accuracy: 0.9312\n",
            "Epoch 17/30\n",
            "49/49 [==============================] - 1s 27ms/step - loss: 0.1961 - accuracy: 0.9314 - val_loss: 0.1899 - val_accuracy: 0.9349\n",
            "Epoch 18/30\n",
            "49/49 [==============================] - 1s 27ms/step - loss: 0.1880 - accuracy: 0.9353 - val_loss: 0.1826 - val_accuracy: 0.9368\n",
            "Epoch 19/30\n",
            "49/49 [==============================] - 1s 27ms/step - loss: 0.1806 - accuracy: 0.9379 - val_loss: 0.1742 - val_accuracy: 0.9404\n",
            "Epoch 20/30\n",
            "49/49 [==============================] - 1s 27ms/step - loss: 0.1734 - accuracy: 0.9408 - val_loss: 0.1677 - val_accuracy: 0.9426\n",
            "Epoch 21/30\n",
            "49/49 [==============================] - 1s 27ms/step - loss: 0.1669 - accuracy: 0.9434 - val_loss: 0.1612 - val_accuracy: 0.9456\n",
            "Epoch 22/30\n",
            "49/49 [==============================] - 1s 27ms/step - loss: 0.1612 - accuracy: 0.9450 - val_loss: 0.1562 - val_accuracy: 0.9465\n",
            "Epoch 23/30\n",
            "49/49 [==============================] - 1s 27ms/step - loss: 0.1557 - accuracy: 0.9474 - val_loss: 0.1499 - val_accuracy: 0.9500\n",
            "Epoch 24/30\n",
            "49/49 [==============================] - 1s 27ms/step - loss: 0.1496 - accuracy: 0.9502 - val_loss: 0.1446 - val_accuracy: 0.9519\n",
            "Epoch 25/30\n",
            "49/49 [==============================] - 1s 27ms/step - loss: 0.1453 - accuracy: 0.9506 - val_loss: 0.1410 - val_accuracy: 0.9536\n",
            "Epoch 26/30\n",
            "49/49 [==============================] - 1s 28ms/step - loss: 0.1398 - accuracy: 0.9537 - val_loss: 0.1352 - val_accuracy: 0.9552\n",
            "Epoch 27/30\n",
            "49/49 [==============================] - 1s 28ms/step - loss: 0.1353 - accuracy: 0.9546 - val_loss: 0.1310 - val_accuracy: 0.9573\n",
            "Epoch 28/30\n",
            "49/49 [==============================] - 1s 29ms/step - loss: 0.1316 - accuracy: 0.9571 - val_loss: 0.1260 - val_accuracy: 0.9595\n",
            "Epoch 29/30\n",
            "49/49 [==============================] - 1s 28ms/step - loss: 0.1269 - accuracy: 0.9588 - val_loss: 0.1220 - val_accuracy: 0.9612\n",
            "Epoch 30/30\n",
            "49/49 [==============================] - 1s 29ms/step - loss: 0.1226 - accuracy: 0.9602 - val_loss: 0.1186 - val_accuracy: 0.9620\n"
          ]
        }
      ]
    },
    {
      "cell_type": "code",
      "source": [
        "loss,accuracy = model.evaluate(test_data,test_labels)"
      ],
      "metadata": {
        "colab": {
          "base_uri": "https://localhost:8080/"
        },
        "id": "hMn5BonurG00",
        "outputId": "475943a0-a2a5-472a-f98a-296669b3f2f5"
      },
      "execution_count": null,
      "outputs": [
        {
          "output_type": "stream",
          "name": "stdout",
          "text": [
            "782/782 [==============================] - 2s 2ms/step - loss: 0.3116 - accuracy: 0.8798\n"
          ]
        }
      ]
    },
    {
      "cell_type": "markdown",
      "source": [
        "### **TESTING**"
      ],
      "metadata": {
        "id": "xq6sr0j7reZd"
      }
    },
    {
      "cell_type": "code",
      "source": [
        "index = np.random.randint(1,1000)\n",
        "user_review = Test_reviews.loc[index]\n",
        "print(user_review)\n"
      ],
      "metadata": {
        "colab": {
          "base_uri": "https://localhost:8080/"
        },
        "id": "MdaiwRXxrhlW",
        "outputId": "afbe48c1-6540-41d0-9a19-64c6d92c3f07"
      },
      "execution_count": null,
      "outputs": [
        {
          "output_type": "stream",
          "name": "stdout",
          "text": [
            "Reviews      <START journalist bob <UNK> <UNK> and sometime...\n",
            "Sentiment                                             negative\n",
            "Name: 633, dtype: object\n"
          ]
        }
      ]
    },
    {
      "cell_type": "markdown",
      "source": [
        "In this it take a variable name (user_review1) and in this take the test data of same index which we generated randomly then it open up the integer of that index and then model is applied on it to predict the value"
      ],
      "metadata": {
        "id": "C3mkmf-7tpf9"
      }
    },
    {
      "cell_type": "code",
      "source": [
        "print(user_review)\n",
        "user_review1 = test_data[index]\n",
        "user_review1 = np.array([user_review1])\n",
        "if(model.predict(user_review1) > 0.5 ). astype(\"int32\"):\n",
        "  print(\"positive Sentiment\")\n",
        "else:\n",
        "  print(\"Negative Sentiment\")\n",
        "\n"
      ],
      "metadata": {
        "colab": {
          "base_uri": "https://localhost:8080/"
        },
        "id": "HYV7TlN0r6EO",
        "outputId": "d9f024db-1345-4e5a-c75b-2324c0f6db6a"
      },
      "execution_count": null,
      "outputs": [
        {
          "output_type": "stream",
          "name": "stdout",
          "text": [
            "Reviews      <START journalist bob <UNK> <UNK> and sometime...\n",
            "Sentiment                                             negative\n",
            "Name: 633, dtype: object\n",
            "Negative Sentiment\n"
          ]
        }
      ]
    }
  ]
}