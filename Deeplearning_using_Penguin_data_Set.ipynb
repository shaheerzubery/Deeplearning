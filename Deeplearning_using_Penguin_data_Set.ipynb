{
  "cells": [
    {
      "cell_type": "markdown",
      "metadata": {
        "id": "view-in-github",
        "colab_type": "text"
      },
      "source": [
        "<a href=\"https://colab.research.google.com/github/shaheerzubery/Deeplearning/blob/main/Deeplearning_using_Penguin_data_Set.ipynb\" target=\"_parent\"><img src=\"https://colab.research.google.com/assets/colab-badge.svg\" alt=\"Open In Colab\"/></a>"
      ]
    },
    {
      "cell_type": "code",
      "execution_count": 1,
      "metadata": {
        "colab": {
          "base_uri": "https://localhost:8080/",
          "height": 206
        },
        "id": "Z1ebsJxnBw_u",
        "outputId": "6800a61e-f60b-49c5-9049-f1c6de89dfa0"
      },
      "outputs": [
        {
          "output_type": "execute_result",
          "data": {
            "text/plain": [
              "   CulmenLength  CulmenDepth  FlipperLength  BodyMass  Species\n",
              "0          39.1         18.7          181.0    3750.0        0\n",
              "1          39.5         17.4          186.0    3800.0        0\n",
              "2          40.3         18.0          195.0    3250.0        0\n",
              "4          36.7         19.3          193.0    3450.0        0\n",
              "5          39.3         20.6          190.0    3650.0        0"
            ],
            "text/html": [
              "\n",
              "  <div id=\"df-61b55eaa-14be-4954-aa4a-f7adac32427a\">\n",
              "    <div class=\"colab-df-container\">\n",
              "      <div>\n",
              "<style scoped>\n",
              "    .dataframe tbody tr th:only-of-type {\n",
              "        vertical-align: middle;\n",
              "    }\n",
              "\n",
              "    .dataframe tbody tr th {\n",
              "        vertical-align: top;\n",
              "    }\n",
              "\n",
              "    .dataframe thead th {\n",
              "        text-align: right;\n",
              "    }\n",
              "</style>\n",
              "<table border=\"1\" class=\"dataframe\">\n",
              "  <thead>\n",
              "    <tr style=\"text-align: right;\">\n",
              "      <th></th>\n",
              "      <th>CulmenLength</th>\n",
              "      <th>CulmenDepth</th>\n",
              "      <th>FlipperLength</th>\n",
              "      <th>BodyMass</th>\n",
              "      <th>Species</th>\n",
              "    </tr>\n",
              "  </thead>\n",
              "  <tbody>\n",
              "    <tr>\n",
              "      <th>0</th>\n",
              "      <td>39.1</td>\n",
              "      <td>18.7</td>\n",
              "      <td>181.0</td>\n",
              "      <td>3750.0</td>\n",
              "      <td>0</td>\n",
              "    </tr>\n",
              "    <tr>\n",
              "      <th>1</th>\n",
              "      <td>39.5</td>\n",
              "      <td>17.4</td>\n",
              "      <td>186.0</td>\n",
              "      <td>3800.0</td>\n",
              "      <td>0</td>\n",
              "    </tr>\n",
              "    <tr>\n",
              "      <th>2</th>\n",
              "      <td>40.3</td>\n",
              "      <td>18.0</td>\n",
              "      <td>195.0</td>\n",
              "      <td>3250.0</td>\n",
              "      <td>0</td>\n",
              "    </tr>\n",
              "    <tr>\n",
              "      <th>4</th>\n",
              "      <td>36.7</td>\n",
              "      <td>19.3</td>\n",
              "      <td>193.0</td>\n",
              "      <td>3450.0</td>\n",
              "      <td>0</td>\n",
              "    </tr>\n",
              "    <tr>\n",
              "      <th>5</th>\n",
              "      <td>39.3</td>\n",
              "      <td>20.6</td>\n",
              "      <td>190.0</td>\n",
              "      <td>3650.0</td>\n",
              "      <td>0</td>\n",
              "    </tr>\n",
              "  </tbody>\n",
              "</table>\n",
              "</div>\n",
              "      <button class=\"colab-df-convert\" onclick=\"convertToInteractive('df-61b55eaa-14be-4954-aa4a-f7adac32427a')\"\n",
              "              title=\"Convert this dataframe to an interactive table.\"\n",
              "              style=\"display:none;\">\n",
              "        \n",
              "  <svg xmlns=\"http://www.w3.org/2000/svg\" height=\"24px\"viewBox=\"0 0 24 24\"\n",
              "       width=\"24px\">\n",
              "    <path d=\"M0 0h24v24H0V0z\" fill=\"none\"/>\n",
              "    <path d=\"M18.56 5.44l.94 2.06.94-2.06 2.06-.94-2.06-.94-.94-2.06-.94 2.06-2.06.94zm-11 1L8.5 8.5l.94-2.06 2.06-.94-2.06-.94L8.5 2.5l-.94 2.06-2.06.94zm10 10l.94 2.06.94-2.06 2.06-.94-2.06-.94-.94-2.06-.94 2.06-2.06.94z\"/><path d=\"M17.41 7.96l-1.37-1.37c-.4-.4-.92-.59-1.43-.59-.52 0-1.04.2-1.43.59L10.3 9.45l-7.72 7.72c-.78.78-.78 2.05 0 2.83L4 21.41c.39.39.9.59 1.41.59.51 0 1.02-.2 1.41-.59l7.78-7.78 2.81-2.81c.8-.78.8-2.07 0-2.86zM5.41 20L4 18.59l7.72-7.72 1.47 1.35L5.41 20z\"/>\n",
              "  </svg>\n",
              "      </button>\n",
              "      \n",
              "  <style>\n",
              "    .colab-df-container {\n",
              "      display:flex;\n",
              "      flex-wrap:wrap;\n",
              "      gap: 12px;\n",
              "    }\n",
              "\n",
              "    .colab-df-convert {\n",
              "      background-color: #E8F0FE;\n",
              "      border: none;\n",
              "      border-radius: 50%;\n",
              "      cursor: pointer;\n",
              "      display: none;\n",
              "      fill: #1967D2;\n",
              "      height: 32px;\n",
              "      padding: 0 0 0 0;\n",
              "      width: 32px;\n",
              "    }\n",
              "\n",
              "    .colab-df-convert:hover {\n",
              "      background-color: #E2EBFA;\n",
              "      box-shadow: 0px 1px 2px rgba(60, 64, 67, 0.3), 0px 1px 3px 1px rgba(60, 64, 67, 0.15);\n",
              "      fill: #174EA6;\n",
              "    }\n",
              "\n",
              "    [theme=dark] .colab-df-convert {\n",
              "      background-color: #3B4455;\n",
              "      fill: #D2E3FC;\n",
              "    }\n",
              "\n",
              "    [theme=dark] .colab-df-convert:hover {\n",
              "      background-color: #434B5C;\n",
              "      box-shadow: 0px 1px 3px 1px rgba(0, 0, 0, 0.15);\n",
              "      filter: drop-shadow(0px 1px 2px rgba(0, 0, 0, 0.3));\n",
              "      fill: #FFFFFF;\n",
              "    }\n",
              "  </style>\n",
              "\n",
              "      <script>\n",
              "        const buttonEl =\n",
              "          document.querySelector('#df-61b55eaa-14be-4954-aa4a-f7adac32427a button.colab-df-convert');\n",
              "        buttonEl.style.display =\n",
              "          google.colab.kernel.accessAllowed ? 'block' : 'none';\n",
              "\n",
              "        async function convertToInteractive(key) {\n",
              "          const element = document.querySelector('#df-61b55eaa-14be-4954-aa4a-f7adac32427a');\n",
              "          const dataTable =\n",
              "            await google.colab.kernel.invokeFunction('convertToInteractive',\n",
              "                                                     [key], {});\n",
              "          if (!dataTable) return;\n",
              "\n",
              "          const docLinkHtml = 'Like what you see? Visit the ' +\n",
              "            '<a target=\"_blank\" href=https://colab.research.google.com/notebooks/data_table.ipynb>data table notebook</a>'\n",
              "            + ' to learn more about interactive tables.';\n",
              "          element.innerHTML = '';\n",
              "          dataTable['output_type'] = 'display_data';\n",
              "          await google.colab.output.renderOutput(dataTable, element);\n",
              "          const docLink = document.createElement('div');\n",
              "          docLink.innerHTML = docLinkHtml;\n",
              "          element.appendChild(docLink);\n",
              "        }\n",
              "      </script>\n",
              "    </div>\n",
              "  </div>\n",
              "  "
            ]
          },
          "metadata": {},
          "execution_count": 1
        }
      ],
      "source": [
        "import pandas as pd\n",
        "path = \"/content/penguins.csv\"\n",
        "DataSet = pd.read_csv(path).dropna()\n",
        "DataSet.head()"
      ]
    },
    {
      "cell_type": "code",
      "execution_count": 2,
      "metadata": {
        "colab": {
          "base_uri": "https://localhost:8080/",
          "height": 300
        },
        "id": "I7VIylS6C6E-",
        "outputId": "740e5fe1-8884-48fa-bc82-91270717a56d"
      },
      "outputs": [
        {
          "output_type": "execute_result",
          "data": {
            "text/plain": [
              "       CulmenLength  CulmenDepth  FlipperLength     BodyMass     Species\n",
              "count    342.000000   342.000000     342.000000   342.000000  342.000000\n",
              "mean      43.921930    17.151170     200.915205  4201.754386    0.757310\n",
              "std        5.459584     1.974793      14.061714   801.954536    0.763648\n",
              "min       32.100000    13.100000     172.000000  2700.000000    0.000000\n",
              "25%       39.225000    15.600000     190.000000  3550.000000    0.000000\n",
              "50%       44.450000    17.300000     197.000000  4050.000000    1.000000\n",
              "75%       48.500000    18.700000     213.000000  4750.000000    1.000000\n",
              "max       59.600000    21.500000     231.000000  6300.000000    2.000000"
            ],
            "text/html": [
              "\n",
              "  <div id=\"df-2b954f23-5f0b-45ad-a4c8-f63e49142223\">\n",
              "    <div class=\"colab-df-container\">\n",
              "      <div>\n",
              "<style scoped>\n",
              "    .dataframe tbody tr th:only-of-type {\n",
              "        vertical-align: middle;\n",
              "    }\n",
              "\n",
              "    .dataframe tbody tr th {\n",
              "        vertical-align: top;\n",
              "    }\n",
              "\n",
              "    .dataframe thead th {\n",
              "        text-align: right;\n",
              "    }\n",
              "</style>\n",
              "<table border=\"1\" class=\"dataframe\">\n",
              "  <thead>\n",
              "    <tr style=\"text-align: right;\">\n",
              "      <th></th>\n",
              "      <th>CulmenLength</th>\n",
              "      <th>CulmenDepth</th>\n",
              "      <th>FlipperLength</th>\n",
              "      <th>BodyMass</th>\n",
              "      <th>Species</th>\n",
              "    </tr>\n",
              "  </thead>\n",
              "  <tbody>\n",
              "    <tr>\n",
              "      <th>count</th>\n",
              "      <td>342.000000</td>\n",
              "      <td>342.000000</td>\n",
              "      <td>342.000000</td>\n",
              "      <td>342.000000</td>\n",
              "      <td>342.000000</td>\n",
              "    </tr>\n",
              "    <tr>\n",
              "      <th>mean</th>\n",
              "      <td>43.921930</td>\n",
              "      <td>17.151170</td>\n",
              "      <td>200.915205</td>\n",
              "      <td>4201.754386</td>\n",
              "      <td>0.757310</td>\n",
              "    </tr>\n",
              "    <tr>\n",
              "      <th>std</th>\n",
              "      <td>5.459584</td>\n",
              "      <td>1.974793</td>\n",
              "      <td>14.061714</td>\n",
              "      <td>801.954536</td>\n",
              "      <td>0.763648</td>\n",
              "    </tr>\n",
              "    <tr>\n",
              "      <th>min</th>\n",
              "      <td>32.100000</td>\n",
              "      <td>13.100000</td>\n",
              "      <td>172.000000</td>\n",
              "      <td>2700.000000</td>\n",
              "      <td>0.000000</td>\n",
              "    </tr>\n",
              "    <tr>\n",
              "      <th>25%</th>\n",
              "      <td>39.225000</td>\n",
              "      <td>15.600000</td>\n",
              "      <td>190.000000</td>\n",
              "      <td>3550.000000</td>\n",
              "      <td>0.000000</td>\n",
              "    </tr>\n",
              "    <tr>\n",
              "      <th>50%</th>\n",
              "      <td>44.450000</td>\n",
              "      <td>17.300000</td>\n",
              "      <td>197.000000</td>\n",
              "      <td>4050.000000</td>\n",
              "      <td>1.000000</td>\n",
              "    </tr>\n",
              "    <tr>\n",
              "      <th>75%</th>\n",
              "      <td>48.500000</td>\n",
              "      <td>18.700000</td>\n",
              "      <td>213.000000</td>\n",
              "      <td>4750.000000</td>\n",
              "      <td>1.000000</td>\n",
              "    </tr>\n",
              "    <tr>\n",
              "      <th>max</th>\n",
              "      <td>59.600000</td>\n",
              "      <td>21.500000</td>\n",
              "      <td>231.000000</td>\n",
              "      <td>6300.000000</td>\n",
              "      <td>2.000000</td>\n",
              "    </tr>\n",
              "  </tbody>\n",
              "</table>\n",
              "</div>\n",
              "      <button class=\"colab-df-convert\" onclick=\"convertToInteractive('df-2b954f23-5f0b-45ad-a4c8-f63e49142223')\"\n",
              "              title=\"Convert this dataframe to an interactive table.\"\n",
              "              style=\"display:none;\">\n",
              "        \n",
              "  <svg xmlns=\"http://www.w3.org/2000/svg\" height=\"24px\"viewBox=\"0 0 24 24\"\n",
              "       width=\"24px\">\n",
              "    <path d=\"M0 0h24v24H0V0z\" fill=\"none\"/>\n",
              "    <path d=\"M18.56 5.44l.94 2.06.94-2.06 2.06-.94-2.06-.94-.94-2.06-.94 2.06-2.06.94zm-11 1L8.5 8.5l.94-2.06 2.06-.94-2.06-.94L8.5 2.5l-.94 2.06-2.06.94zm10 10l.94 2.06.94-2.06 2.06-.94-2.06-.94-.94-2.06-.94 2.06-2.06.94z\"/><path d=\"M17.41 7.96l-1.37-1.37c-.4-.4-.92-.59-1.43-.59-.52 0-1.04.2-1.43.59L10.3 9.45l-7.72 7.72c-.78.78-.78 2.05 0 2.83L4 21.41c.39.39.9.59 1.41.59.51 0 1.02-.2 1.41-.59l7.78-7.78 2.81-2.81c.8-.78.8-2.07 0-2.86zM5.41 20L4 18.59l7.72-7.72 1.47 1.35L5.41 20z\"/>\n",
              "  </svg>\n",
              "      </button>\n",
              "      \n",
              "  <style>\n",
              "    .colab-df-container {\n",
              "      display:flex;\n",
              "      flex-wrap:wrap;\n",
              "      gap: 12px;\n",
              "    }\n",
              "\n",
              "    .colab-df-convert {\n",
              "      background-color: #E8F0FE;\n",
              "      border: none;\n",
              "      border-radius: 50%;\n",
              "      cursor: pointer;\n",
              "      display: none;\n",
              "      fill: #1967D2;\n",
              "      height: 32px;\n",
              "      padding: 0 0 0 0;\n",
              "      width: 32px;\n",
              "    }\n",
              "\n",
              "    .colab-df-convert:hover {\n",
              "      background-color: #E2EBFA;\n",
              "      box-shadow: 0px 1px 2px rgba(60, 64, 67, 0.3), 0px 1px 3px 1px rgba(60, 64, 67, 0.15);\n",
              "      fill: #174EA6;\n",
              "    }\n",
              "\n",
              "    [theme=dark] .colab-df-convert {\n",
              "      background-color: #3B4455;\n",
              "      fill: #D2E3FC;\n",
              "    }\n",
              "\n",
              "    [theme=dark] .colab-df-convert:hover {\n",
              "      background-color: #434B5C;\n",
              "      box-shadow: 0px 1px 3px 1px rgba(0, 0, 0, 0.15);\n",
              "      filter: drop-shadow(0px 1px 2px rgba(0, 0, 0, 0.3));\n",
              "      fill: #FFFFFF;\n",
              "    }\n",
              "  </style>\n",
              "\n",
              "      <script>\n",
              "        const buttonEl =\n",
              "          document.querySelector('#df-2b954f23-5f0b-45ad-a4c8-f63e49142223 button.colab-df-convert');\n",
              "        buttonEl.style.display =\n",
              "          google.colab.kernel.accessAllowed ? 'block' : 'none';\n",
              "\n",
              "        async function convertToInteractive(key) {\n",
              "          const element = document.querySelector('#df-2b954f23-5f0b-45ad-a4c8-f63e49142223');\n",
              "          const dataTable =\n",
              "            await google.colab.kernel.invokeFunction('convertToInteractive',\n",
              "                                                     [key], {});\n",
              "          if (!dataTable) return;\n",
              "\n",
              "          const docLinkHtml = 'Like what you see? Visit the ' +\n",
              "            '<a target=\"_blank\" href=https://colab.research.google.com/notebooks/data_table.ipynb>data table notebook</a>'\n",
              "            + ' to learn more about interactive tables.';\n",
              "          element.innerHTML = '';\n",
              "          dataTable['output_type'] = 'display_data';\n",
              "          await google.colab.output.renderOutput(dataTable, element);\n",
              "          const docLink = document.createElement('div');\n",
              "          docLink.innerHTML = docLinkHtml;\n",
              "          element.appendChild(docLink);\n",
              "        }\n",
              "      </script>\n",
              "    </div>\n",
              "  </div>\n",
              "  "
            ]
          },
          "metadata": {},
          "execution_count": 2
        }
      ],
      "source": [
        "DataSet.describe()"
      ]
    },
    {
      "cell_type": "code",
      "execution_count": 3,
      "metadata": {
        "colab": {
          "base_uri": "https://localhost:8080/",
          "height": 300
        },
        "id": "-nyohGXVDEnc",
        "outputId": "39230c96-fc56-4ed2-cd27-9c67a0b2c365"
      },
      "outputs": [
        {
          "output_type": "execute_result",
          "data": {
            "text/plain": [
              "       CulmenLength  CulmenDepth  FlipperLength     BodyMass      Species\n",
              "count    1368.00000  1368.000000    1368.000000  1368.000000  1368.000000\n",
              "mean       43.92193    17.151170      20.091520    42.017544     0.757310\n",
              "std         5.45359     1.972625       1.404628     8.010741     0.762809\n",
              "min        32.10000    13.100000      17.200000    27.000000     0.000000\n",
              "25%        39.20000    15.600000      19.000000    35.500000     0.000000\n",
              "50%        44.45000    17.300000      19.700000    40.500000     1.000000\n",
              "75%        48.50000    18.700000      21.300000    47.500000     1.000000\n",
              "max        59.60000    21.500000      23.100000    63.000000     2.000000"
            ],
            "text/html": [
              "\n",
              "  <div id=\"df-e7d31c4d-e3db-4402-b076-450cd84ecac6\">\n",
              "    <div class=\"colab-df-container\">\n",
              "      <div>\n",
              "<style scoped>\n",
              "    .dataframe tbody tr th:only-of-type {\n",
              "        vertical-align: middle;\n",
              "    }\n",
              "\n",
              "    .dataframe tbody tr th {\n",
              "        vertical-align: top;\n",
              "    }\n",
              "\n",
              "    .dataframe thead th {\n",
              "        text-align: right;\n",
              "    }\n",
              "</style>\n",
              "<table border=\"1\" class=\"dataframe\">\n",
              "  <thead>\n",
              "    <tr style=\"text-align: right;\">\n",
              "      <th></th>\n",
              "      <th>CulmenLength</th>\n",
              "      <th>CulmenDepth</th>\n",
              "      <th>FlipperLength</th>\n",
              "      <th>BodyMass</th>\n",
              "      <th>Species</th>\n",
              "    </tr>\n",
              "  </thead>\n",
              "  <tbody>\n",
              "    <tr>\n",
              "      <th>count</th>\n",
              "      <td>1368.00000</td>\n",
              "      <td>1368.000000</td>\n",
              "      <td>1368.000000</td>\n",
              "      <td>1368.000000</td>\n",
              "      <td>1368.000000</td>\n",
              "    </tr>\n",
              "    <tr>\n",
              "      <th>mean</th>\n",
              "      <td>43.92193</td>\n",
              "      <td>17.151170</td>\n",
              "      <td>20.091520</td>\n",
              "      <td>42.017544</td>\n",
              "      <td>0.757310</td>\n",
              "    </tr>\n",
              "    <tr>\n",
              "      <th>std</th>\n",
              "      <td>5.45359</td>\n",
              "      <td>1.972625</td>\n",
              "      <td>1.404628</td>\n",
              "      <td>8.010741</td>\n",
              "      <td>0.762809</td>\n",
              "    </tr>\n",
              "    <tr>\n",
              "      <th>min</th>\n",
              "      <td>32.10000</td>\n",
              "      <td>13.100000</td>\n",
              "      <td>17.200000</td>\n",
              "      <td>27.000000</td>\n",
              "      <td>0.000000</td>\n",
              "    </tr>\n",
              "    <tr>\n",
              "      <th>25%</th>\n",
              "      <td>39.20000</td>\n",
              "      <td>15.600000</td>\n",
              "      <td>19.000000</td>\n",
              "      <td>35.500000</td>\n",
              "      <td>0.000000</td>\n",
              "    </tr>\n",
              "    <tr>\n",
              "      <th>50%</th>\n",
              "      <td>44.45000</td>\n",
              "      <td>17.300000</td>\n",
              "      <td>19.700000</td>\n",
              "      <td>40.500000</td>\n",
              "      <td>1.000000</td>\n",
              "    </tr>\n",
              "    <tr>\n",
              "      <th>75%</th>\n",
              "      <td>48.50000</td>\n",
              "      <td>18.700000</td>\n",
              "      <td>21.300000</td>\n",
              "      <td>47.500000</td>\n",
              "      <td>1.000000</td>\n",
              "    </tr>\n",
              "    <tr>\n",
              "      <th>max</th>\n",
              "      <td>59.60000</td>\n",
              "      <td>21.500000</td>\n",
              "      <td>23.100000</td>\n",
              "      <td>63.000000</td>\n",
              "      <td>2.000000</td>\n",
              "    </tr>\n",
              "  </tbody>\n",
              "</table>\n",
              "</div>\n",
              "      <button class=\"colab-df-convert\" onclick=\"convertToInteractive('df-e7d31c4d-e3db-4402-b076-450cd84ecac6')\"\n",
              "              title=\"Convert this dataframe to an interactive table.\"\n",
              "              style=\"display:none;\">\n",
              "        \n",
              "  <svg xmlns=\"http://www.w3.org/2000/svg\" height=\"24px\"viewBox=\"0 0 24 24\"\n",
              "       width=\"24px\">\n",
              "    <path d=\"M0 0h24v24H0V0z\" fill=\"none\"/>\n",
              "    <path d=\"M18.56 5.44l.94 2.06.94-2.06 2.06-.94-2.06-.94-.94-2.06-.94 2.06-2.06.94zm-11 1L8.5 8.5l.94-2.06 2.06-.94-2.06-.94L8.5 2.5l-.94 2.06-2.06.94zm10 10l.94 2.06.94-2.06 2.06-.94-2.06-.94-.94-2.06-.94 2.06-2.06.94z\"/><path d=\"M17.41 7.96l-1.37-1.37c-.4-.4-.92-.59-1.43-.59-.52 0-1.04.2-1.43.59L10.3 9.45l-7.72 7.72c-.78.78-.78 2.05 0 2.83L4 21.41c.39.39.9.59 1.41.59.51 0 1.02-.2 1.41-.59l7.78-7.78 2.81-2.81c.8-.78.8-2.07 0-2.86zM5.41 20L4 18.59l7.72-7.72 1.47 1.35L5.41 20z\"/>\n",
              "  </svg>\n",
              "      </button>\n",
              "      \n",
              "  <style>\n",
              "    .colab-df-container {\n",
              "      display:flex;\n",
              "      flex-wrap:wrap;\n",
              "      gap: 12px;\n",
              "    }\n",
              "\n",
              "    .colab-df-convert {\n",
              "      background-color: #E8F0FE;\n",
              "      border: none;\n",
              "      border-radius: 50%;\n",
              "      cursor: pointer;\n",
              "      display: none;\n",
              "      fill: #1967D2;\n",
              "      height: 32px;\n",
              "      padding: 0 0 0 0;\n",
              "      width: 32px;\n",
              "    }\n",
              "\n",
              "    .colab-df-convert:hover {\n",
              "      background-color: #E2EBFA;\n",
              "      box-shadow: 0px 1px 2px rgba(60, 64, 67, 0.3), 0px 1px 3px 1px rgba(60, 64, 67, 0.15);\n",
              "      fill: #174EA6;\n",
              "    }\n",
              "\n",
              "    [theme=dark] .colab-df-convert {\n",
              "      background-color: #3B4455;\n",
              "      fill: #D2E3FC;\n",
              "    }\n",
              "\n",
              "    [theme=dark] .colab-df-convert:hover {\n",
              "      background-color: #434B5C;\n",
              "      box-shadow: 0px 1px 3px 1px rgba(0, 0, 0, 0.15);\n",
              "      filter: drop-shadow(0px 1px 2px rgba(0, 0, 0, 0.3));\n",
              "      fill: #FFFFFF;\n",
              "    }\n",
              "  </style>\n",
              "\n",
              "      <script>\n",
              "        const buttonEl =\n",
              "          document.querySelector('#df-e7d31c4d-e3db-4402-b076-450cd84ecac6 button.colab-df-convert');\n",
              "        buttonEl.style.display =\n",
              "          google.colab.kernel.accessAllowed ? 'block' : 'none';\n",
              "\n",
              "        async function convertToInteractive(key) {\n",
              "          const element = document.querySelector('#df-e7d31c4d-e3db-4402-b076-450cd84ecac6');\n",
              "          const dataTable =\n",
              "            await google.colab.kernel.invokeFunction('convertToInteractive',\n",
              "                                                     [key], {});\n",
              "          if (!dataTable) return;\n",
              "\n",
              "          const docLinkHtml = 'Like what you see? Visit the ' +\n",
              "            '<a target=\"_blank\" href=https://colab.research.google.com/notebooks/data_table.ipynb>data table notebook</a>'\n",
              "            + ' to learn more about interactive tables.';\n",
              "          element.innerHTML = '';\n",
              "          dataTable['output_type'] = 'display_data';\n",
              "          await google.colab.output.renderOutput(dataTable, element);\n",
              "          const docLink = document.createElement('div');\n",
              "          docLink.innerHTML = docLinkHtml;\n",
              "          element.appendChild(docLink);\n",
              "        }\n",
              "      </script>\n",
              "    </div>\n",
              "  </div>\n",
              "  "
            ]
          },
          "metadata": {},
          "execution_count": 3
        }
      ],
      "source": [
        "DataSet['FlipperLength'] = DataSet['FlipperLength']/10\n",
        "DataSet['BodyMass'] = DataSet['BodyMass']/100\n",
        "\n",
        "# The dataset is too small to be useful for deep learning\n",
        "# So we'll oversample it to increase its size\n",
        "\n",
        "for i in range(1,3):\n",
        "    DataSet = DataSet.append(DataSet)\n",
        "\n",
        "DataSet.describe()\n"
      ]
    },
    {
      "cell_type": "markdown",
      "metadata": {
        "id": "-94-hkqSD1a6"
      },
      "source": [
        "The Species column is the label our model will predict. Each label value represents a class of penguin species, encoded as 0, 1, or 2. The following code shows the actual species to which these class labels corrrespond."
      ]
    },
    {
      "cell_type": "code",
      "execution_count": 4,
      "metadata": {
        "colab": {
          "base_uri": "https://localhost:8080/"
        },
        "id": "7mjS18ubDv22",
        "outputId": "0a95f4b3-2f6f-4271-a4c9-7c0b65b78abf"
      },
      "outputs": [
        {
          "output_type": "stream",
          "name": "stdout",
          "text": [
            "['CulmenLength' 'CulmenDepth' 'FlipperLength' 'BodyMass' 'Species'] SpeciesName\n"
          ]
        }
      ],
      "source": [
        "sample = DataSet.sample(10)\n",
        "sample\n",
        "Penguin_class = ['Adelie', 'Gentoo', 'Chinstrap']\n",
        "print(sample.columns[0:5].values, 'SpeciesName')"
      ]
    },
    {
      "cell_type": "code",
      "execution_count": 5,
      "metadata": {
        "colab": {
          "base_uri": "https://localhost:8080/"
        },
        "id": "4hOoA8XuEMnh",
        "outputId": "73e235dc-b4ae-4602-f964-a6c1622b26f2"
      },
      "outputs": [
        {
          "output_type": "stream",
          "name": "stdout",
          "text": [
            "[ 55.9 17.0 22.8 56.0 1 ] Gentoo\n",
            "[ 50.2 18.7 19.8 37.75 2 ] Chinstrap\n",
            "[ 49.5 19.0 20.0 38.0 2 ] Chinstrap\n",
            "[ 50.0 15.3 22.0 55.5 1 ] Gentoo\n",
            "[ 39.7 17.9 19.3 42.5 0 ] Adelie\n",
            "[ 50.2 18.7 19.8 37.75 2 ] Chinstrap\n",
            "[ 38.6 17.2 19.9 37.5 0 ] Adelie\n",
            "[ 48.2 14.3 21.0 46.0 1 ] Gentoo\n",
            "[ 49.0 19.5 21.0 39.5 2 ] Chinstrap\n",
            "[ 37.0 16.9 18.5 30.0 0 ] Adelie\n"
          ]
        }
      ],
      "source": [
        "for index, row in DataSet.sample(10).iterrows():\n",
        "    print('[',row[0], row[1], row[2],row[3], int(row[4]), ']', Penguin_class[int(row[-1])])"
      ]
    },
    {
      "cell_type": "markdown",
      "metadata": {
        "id": "NfhzpvNPFLos"
      },
      "source": [
        "Split the data"
      ]
    },
    {
      "cell_type": "code",
      "execution_count": 6,
      "metadata": {
        "colab": {
          "base_uri": "https://localhost:8080/"
        },
        "id": "hAvlFduuEytA",
        "outputId": "dabc5e1c-a77f-4777-9219-e08f1c1b544b"
      },
      "outputs": [
        {
          "output_type": "stream",
          "name": "stdout",
          "text": [
            "train size 957 Test size 411\n"
          ]
        }
      ],
      "source": [
        "from sklearn.model_selection import train_test_split\n",
        "\n",
        "\n",
        "feature = ['CulmenLength','CulmenDepth','FlipperLength','BodyMass']\n",
        "labels = 'Species'\n",
        "\n",
        "x,y = DataSet[feature].values, DataSet[labels].values\n",
        "\n",
        "x_train,x_test,y_train,y_test = train_test_split(x,y,test_size=.30, random_state= 0)\n",
        "print('train size', x_train.shape[0],'Test size', x_test.shape[0])"
      ]
    },
    {
      "cell_type": "markdown",
      "metadata": {
        "id": "ELx4nn_cKd_u"
      },
      "source": [
        "Training Part Using Tensorflow"
      ]
    },
    {
      "cell_type": "code",
      "execution_count": 7,
      "metadata": {
        "colab": {
          "base_uri": "https://localhost:8080/"
        },
        "id": "fnNoip6_GPIr",
        "outputId": "d01642a8-edfb-4082-f3e7-8feec1102229"
      },
      "outputs": [
        {
          "output_type": "stream",
          "name": "stdout",
          "text": [
            "Requirement already satisfied: tensorflow in /usr/local/lib/python3.7/dist-packages (2.8.0)\n",
            "Requirement already satisfied: google-pasta>=0.1.1 in /usr/local/lib/python3.7/dist-packages (from tensorflow) (0.2.0)\n",
            "Requirement already satisfied: tf-estimator-nightly==2.8.0.dev2021122109 in /usr/local/lib/python3.7/dist-packages (from tensorflow) (2.8.0.dev2021122109)\n",
            "Requirement already satisfied: numpy>=1.20 in /usr/local/lib/python3.7/dist-packages (from tensorflow) (1.21.6)\n",
            "Requirement already satisfied: libclang>=9.0.1 in /usr/local/lib/python3.7/dist-packages (from tensorflow) (14.0.1)\n",
            "Requirement already satisfied: keras-preprocessing>=1.1.1 in /usr/local/lib/python3.7/dist-packages (from tensorflow) (1.1.2)\n",
            "Requirement already satisfied: tensorboard<2.9,>=2.8 in /usr/local/lib/python3.7/dist-packages (from tensorflow) (2.8.0)\n",
            "Requirement already satisfied: tensorflow-io-gcs-filesystem>=0.23.1 in /usr/local/lib/python3.7/dist-packages (from tensorflow) (0.25.0)\n",
            "Requirement already satisfied: wrapt>=1.11.0 in /usr/local/lib/python3.7/dist-packages (from tensorflow) (1.14.0)\n",
            "Requirement already satisfied: six>=1.12.0 in /usr/local/lib/python3.7/dist-packages (from tensorflow) (1.15.0)\n",
            "Requirement already satisfied: protobuf>=3.9.2 in /usr/local/lib/python3.7/dist-packages (from tensorflow) (3.17.3)\n",
            "Requirement already satisfied: termcolor>=1.1.0 in /usr/local/lib/python3.7/dist-packages (from tensorflow) (1.1.0)\n",
            "Requirement already satisfied: grpcio<2.0,>=1.24.3 in /usr/local/lib/python3.7/dist-packages (from tensorflow) (1.44.0)\n",
            "Requirement already satisfied: flatbuffers>=1.12 in /usr/local/lib/python3.7/dist-packages (from tensorflow) (2.0)\n",
            "Requirement already satisfied: astunparse>=1.6.0 in /usr/local/lib/python3.7/dist-packages (from tensorflow) (1.6.3)\n",
            "Requirement already satisfied: gast>=0.2.1 in /usr/local/lib/python3.7/dist-packages (from tensorflow) (0.5.3)\n",
            "Requirement already satisfied: typing-extensions>=3.6.6 in /usr/local/lib/python3.7/dist-packages (from tensorflow) (4.2.0)\n",
            "Requirement already satisfied: setuptools in /usr/local/lib/python3.7/dist-packages (from tensorflow) (57.4.0)\n",
            "Requirement already satisfied: opt-einsum>=2.3.2 in /usr/local/lib/python3.7/dist-packages (from tensorflow) (3.3.0)\n",
            "Requirement already satisfied: h5py>=2.9.0 in /usr/local/lib/python3.7/dist-packages (from tensorflow) (3.1.0)\n",
            "Requirement already satisfied: keras<2.9,>=2.8.0rc0 in /usr/local/lib/python3.7/dist-packages (from tensorflow) (2.8.0)\n",
            "Requirement already satisfied: absl-py>=0.4.0 in /usr/local/lib/python3.7/dist-packages (from tensorflow) (1.0.0)\n",
            "Requirement already satisfied: wheel<1.0,>=0.23.0 in /usr/local/lib/python3.7/dist-packages (from astunparse>=1.6.0->tensorflow) (0.37.1)\n",
            "Requirement already satisfied: cached-property in /usr/local/lib/python3.7/dist-packages (from h5py>=2.9.0->tensorflow) (1.5.2)\n",
            "Requirement already satisfied: requests<3,>=2.21.0 in /usr/local/lib/python3.7/dist-packages (from tensorboard<2.9,>=2.8->tensorflow) (2.23.0)\n",
            "Requirement already satisfied: werkzeug>=0.11.15 in /usr/local/lib/python3.7/dist-packages (from tensorboard<2.9,>=2.8->tensorflow) (1.0.1)\n",
            "Requirement already satisfied: google-auth<3,>=1.6.3 in /usr/local/lib/python3.7/dist-packages (from tensorboard<2.9,>=2.8->tensorflow) (1.35.0)\n",
            "Requirement already satisfied: google-auth-oauthlib<0.5,>=0.4.1 in /usr/local/lib/python3.7/dist-packages (from tensorboard<2.9,>=2.8->tensorflow) (0.4.6)\n",
            "Requirement already satisfied: tensorboard-plugin-wit>=1.6.0 in /usr/local/lib/python3.7/dist-packages (from tensorboard<2.9,>=2.8->tensorflow) (1.8.1)\n",
            "Requirement already satisfied: markdown>=2.6.8 in /usr/local/lib/python3.7/dist-packages (from tensorboard<2.9,>=2.8->tensorflow) (3.3.6)\n",
            "Requirement already satisfied: tensorboard-data-server<0.7.0,>=0.6.0 in /usr/local/lib/python3.7/dist-packages (from tensorboard<2.9,>=2.8->tensorflow) (0.6.1)\n",
            "Requirement already satisfied: rsa<5,>=3.1.4 in /usr/local/lib/python3.7/dist-packages (from google-auth<3,>=1.6.3->tensorboard<2.9,>=2.8->tensorflow) (4.8)\n",
            "Requirement already satisfied: pyasn1-modules>=0.2.1 in /usr/local/lib/python3.7/dist-packages (from google-auth<3,>=1.6.3->tensorboard<2.9,>=2.8->tensorflow) (0.2.8)\n",
            "Requirement already satisfied: cachetools<5.0,>=2.0.0 in /usr/local/lib/python3.7/dist-packages (from google-auth<3,>=1.6.3->tensorboard<2.9,>=2.8->tensorflow) (4.2.4)\n",
            "Requirement already satisfied: requests-oauthlib>=0.7.0 in /usr/local/lib/python3.7/dist-packages (from google-auth-oauthlib<0.5,>=0.4.1->tensorboard<2.9,>=2.8->tensorflow) (1.3.1)\n",
            "Requirement already satisfied: importlib-metadata>=4.4 in /usr/local/lib/python3.7/dist-packages (from markdown>=2.6.8->tensorboard<2.9,>=2.8->tensorflow) (4.11.3)\n",
            "Requirement already satisfied: zipp>=0.5 in /usr/local/lib/python3.7/dist-packages (from importlib-metadata>=4.4->markdown>=2.6.8->tensorboard<2.9,>=2.8->tensorflow) (3.8.0)\n",
            "Requirement already satisfied: pyasn1<0.5.0,>=0.4.6 in /usr/local/lib/python3.7/dist-packages (from pyasn1-modules>=0.2.1->google-auth<3,>=1.6.3->tensorboard<2.9,>=2.8->tensorflow) (0.4.8)\n",
            "Requirement already satisfied: chardet<4,>=3.0.2 in /usr/local/lib/python3.7/dist-packages (from requests<3,>=2.21.0->tensorboard<2.9,>=2.8->tensorflow) (3.0.4)\n",
            "Requirement already satisfied: idna<3,>=2.5 in /usr/local/lib/python3.7/dist-packages (from requests<3,>=2.21.0->tensorboard<2.9,>=2.8->tensorflow) (2.10)\n",
            "Requirement already satisfied: urllib3!=1.25.0,!=1.25.1,<1.26,>=1.21.1 in /usr/local/lib/python3.7/dist-packages (from requests<3,>=2.21.0->tensorboard<2.9,>=2.8->tensorflow) (1.24.3)\n",
            "Requirement already satisfied: certifi>=2017.4.17 in /usr/local/lib/python3.7/dist-packages (from requests<3,>=2.21.0->tensorboard<2.9,>=2.8->tensorflow) (2021.10.8)\n",
            "Requirement already satisfied: oauthlib>=3.0.0 in /usr/local/lib/python3.7/dist-packages (from requests-oauthlib>=0.7.0->google-auth-oauthlib<0.5,>=0.4.1->tensorboard<2.9,>=2.8->tensorflow) (3.2.0)\n"
          ]
        }
      ],
      "source": [
        "pip install --upgrade tensorflow"
      ]
    },
    {
      "cell_type": "code",
      "execution_count": 8,
      "metadata": {
        "id": "EhS6vx_7KrEc"
      },
      "outputs": [],
      "source": [
        "import tensorflow\n",
        "from tensorflow import keras\n",
        "from tensorflow.keras import models\n",
        "from tensorflow.keras.models import Sequential\n",
        "from tensorflow.keras.layers import Dense\n",
        "from tensorflow.keras import utils\n",
        "from tensorflow.keras import optimizers"
      ]
    },
    {
      "cell_type": "code",
      "execution_count": 9,
      "metadata": {
        "colab": {
          "base_uri": "https://localhost:8080/"
        },
        "id": "W6yFot1wKzKg",
        "outputId": "bfa177fb-8cb1-45e7-fcc9-8a5b20241502"
      },
      "outputs": [
        {
          "output_type": "stream",
          "name": "stdout",
          "text": [
            "Libraries imported.\n",
            "Keras version: 2.8.0\n",
            "TensorFlow version: 2.8.0\n"
          ]
        }
      ],
      "source": [
        "tensorflow.random.set_seed(0)\n",
        "\n",
        "print(\"Libraries imported.\")\n",
        "print('Keras version:',keras.__version__)\n",
        "print('TensorFlow version:',tensorflow.__version__)"
      ]
    },
    {
      "cell_type": "markdown",
      "metadata": {
        "id": "UVyhRYWZK7zA"
      },
      "source": [
        "Prepare Data for tensor flow"
      ]
    },
    {
      "cell_type": "code",
      "execution_count": 10,
      "metadata": {
        "colab": {
          "base_uri": "https://localhost:8080/"
        },
        "id": "lZPPUEI0K4Rc",
        "outputId": "7e8c43e0-b774-4657-e017-682120905e9a"
      },
      "outputs": [
        {
          "output_type": "stream",
          "name": "stdout",
          "text": [
            "ready ...\n"
          ]
        }
      ],
      "source": [
        "#Set data type for float features\n",
        "\n",
        "x_train = x_train.astype('float32')\n",
        "x_test = x_test.astype('float32')\n",
        "\n",
        "\n",
        "#Set data type for categorical label\n",
        "y_train = utils.to_categorical(y_train)\n",
        "y_test = utils.to_categorical(y_test)\n",
        "print('ready ...')"
      ]
    },
    {
      "cell_type": "markdown",
      "metadata": {
        "id": "L351GiXdPDKt"
      },
      "source": [
        "Construct neural newtwork"
      ]
    },
    {
      "cell_type": "code",
      "execution_count": 11,
      "metadata": {
        "colab": {
          "base_uri": "https://localhost:8080/"
        },
        "id": "rv5rBV_lLvq7",
        "outputId": "cf52a32b-6db3-46c7-ba03-eb08c108899d"
      },
      "outputs": [
        {
          "output_type": "stream",
          "name": "stdout",
          "text": [
            "Model: \"sequential\"\n",
            "_________________________________________________________________\n",
            " Layer (type)                Output Shape              Param #   \n",
            "=================================================================\n",
            " dense (Dense)               (None, 10)                50        \n",
            "                                                                 \n",
            " dense_1 (Dense)             (None, 10)                110       \n",
            "                                                                 \n",
            " dense_2 (Dense)             (None, 3)                 33        \n",
            "                                                                 \n",
            "=================================================================\n",
            "Total params: 193\n",
            "Trainable params: 193\n",
            "Non-trainable params: 0\n",
            "_________________________________________________________________\n",
            "None\n"
          ]
        }
      ],
      "source": [
        "hidden_layer = 10\n",
        "\n",
        "model = Sequential()\n",
        "model.add(Dense(hidden_layer, input_dim = len(feature), activation='relu'))\n",
        "model.add(Dense(hidden_layer, input_dim = hidden_layer, activation = 'relu'))\n",
        "model.add(Dense(len(Penguin_class),input_dim = hidden_layer, activation='softmax'))\n",
        "\n",
        "print(model.summary())"
      ]
    },
    {
      "cell_type": "markdown",
      "metadata": {
        "id": "p9REoddvRAOy"
      },
      "source": [
        "Train the model"
      ]
    },
    {
      "cell_type": "code",
      "execution_count": 16,
      "metadata": {
        "colab": {
          "base_uri": "https://localhost:8080/"
        },
        "id": "RvlI5z8aQpMV",
        "outputId": "2421a972-441c-4441-9177-6104366ef8b3"
      },
      "outputs": [
        {
          "output_type": "stream",
          "name": "stdout",
          "text": [
            "Epoch 1/50\n"
          ]
        },
        {
          "output_type": "stream",
          "name": "stderr",
          "text": [
            "/usr/local/lib/python3.7/dist-packages/keras/optimizer_v2/adam.py:105: UserWarning: The `lr` argument is deprecated, use `learning_rate` instead.\n",
            "  super(Adam, self).__init__(name, **kwargs)\n"
          ]
        },
        {
          "output_type": "stream",
          "name": "stdout",
          "text": [
            "96/96 [==============================] - 1s 7ms/step - loss: 0.9323 - accuracy: 0.6876 - val_loss: 0.8945 - val_accuracy: 0.6959\n",
            "Epoch 2/50\n",
            "96/96 [==============================] - 0s 2ms/step - loss: 0.7659 - accuracy: 0.7179 - val_loss: 0.7344 - val_accuracy: 0.7032\n",
            "Epoch 3/50\n",
            "96/96 [==============================] - 0s 3ms/step - loss: 0.6718 - accuracy: 0.7576 - val_loss: 0.6973 - val_accuracy: 0.8564\n",
            "Epoch 4/50\n",
            "96/96 [==============================] - 0s 2ms/step - loss: 0.5954 - accuracy: 0.7879 - val_loss: 0.5959 - val_accuracy: 0.8613\n",
            "Epoch 5/50\n",
            "96/96 [==============================] - 0s 3ms/step - loss: 0.5315 - accuracy: 0.8098 - val_loss: 0.5388 - val_accuracy: 0.7445\n",
            "Epoch 6/50\n",
            "96/96 [==============================] - 0s 2ms/step - loss: 0.4830 - accuracy: 0.8537 - val_loss: 0.4851 - val_accuracy: 0.7543\n",
            "Epoch 7/50\n",
            "96/96 [==============================] - 0s 3ms/step - loss: 0.4416 - accuracy: 0.8527 - val_loss: 0.4338 - val_accuracy: 0.8394\n",
            "Epoch 8/50\n",
            "96/96 [==============================] - 0s 2ms/step - loss: 0.3927 - accuracy: 0.8861 - val_loss: 0.4035 - val_accuracy: 0.8662\n",
            "Epoch 9/50\n",
            "96/96 [==============================] - 0s 2ms/step - loss: 0.3580 - accuracy: 0.9091 - val_loss: 0.3574 - val_accuracy: 0.8856\n",
            "Epoch 10/50\n",
            "96/96 [==============================] - 0s 2ms/step - loss: 0.3252 - accuracy: 0.9164 - val_loss: 0.3315 - val_accuracy: 0.9465\n",
            "Epoch 11/50\n",
            "96/96 [==============================] - 0s 2ms/step - loss: 0.3064 - accuracy: 0.9195 - val_loss: 0.2993 - val_accuracy: 0.9148\n",
            "Epoch 12/50\n",
            "96/96 [==============================] - 0s 2ms/step - loss: 0.2671 - accuracy: 0.9404 - val_loss: 0.2914 - val_accuracy: 0.9635\n",
            "Epoch 13/50\n",
            "96/96 [==============================] - 0s 2ms/step - loss: 0.2353 - accuracy: 0.9540 - val_loss: 0.2479 - val_accuracy: 0.9708\n",
            "Epoch 14/50\n",
            "96/96 [==============================] - 0s 3ms/step - loss: 0.2147 - accuracy: 0.9561 - val_loss: 0.2378 - val_accuracy: 0.9489\n",
            "Epoch 15/50\n",
            "96/96 [==============================] - 0s 3ms/step - loss: 0.2014 - accuracy: 0.9603 - val_loss: 0.2103 - val_accuracy: 0.9513\n",
            "Epoch 16/50\n",
            "96/96 [==============================] - 0s 2ms/step - loss: 0.1788 - accuracy: 0.9666 - val_loss: 0.1889 - val_accuracy: 0.9781\n",
            "Epoch 17/50\n",
            "96/96 [==============================] - 0s 2ms/step - loss: 0.1641 - accuracy: 0.9718 - val_loss: 0.1779 - val_accuracy: 0.9611\n",
            "Epoch 18/50\n",
            "96/96 [==============================] - 0s 2ms/step - loss: 0.1577 - accuracy: 0.9718 - val_loss: 0.1717 - val_accuracy: 0.9586\n",
            "Epoch 19/50\n",
            "96/96 [==============================] - 0s 2ms/step - loss: 0.1413 - accuracy: 0.9718 - val_loss: 0.1528 - val_accuracy: 0.9611\n",
            "Epoch 20/50\n",
            "96/96 [==============================] - 0s 2ms/step - loss: 0.1304 - accuracy: 0.9760 - val_loss: 0.1540 - val_accuracy: 0.9611\n",
            "Epoch 21/50\n",
            "96/96 [==============================] - 0s 2ms/step - loss: 0.1234 - accuracy: 0.9739 - val_loss: 0.1385 - val_accuracy: 0.9732\n",
            "Epoch 22/50\n",
            "96/96 [==============================] - 0s 2ms/step - loss: 0.1131 - accuracy: 0.9791 - val_loss: 0.1785 - val_accuracy: 0.9246\n",
            "Epoch 23/50\n",
            "96/96 [==============================] - 0s 2ms/step - loss: 0.1155 - accuracy: 0.9718 - val_loss: 0.1348 - val_accuracy: 0.9611\n",
            "Epoch 24/50\n",
            "96/96 [==============================] - 0s 2ms/step - loss: 0.0981 - accuracy: 0.9843 - val_loss: 0.1107 - val_accuracy: 0.9927\n",
            "Epoch 25/50\n",
            "96/96 [==============================] - 0s 2ms/step - loss: 0.0966 - accuracy: 0.9843 - val_loss: 0.1032 - val_accuracy: 0.9927\n",
            "Epoch 26/50\n",
            "96/96 [==============================] - 0s 2ms/step - loss: 0.0897 - accuracy: 0.9812 - val_loss: 0.0937 - val_accuracy: 0.9927\n",
            "Epoch 27/50\n",
            "96/96 [==============================] - 0s 2ms/step - loss: 0.0821 - accuracy: 0.9833 - val_loss: 0.0913 - val_accuracy: 0.9781\n",
            "Epoch 28/50\n",
            "96/96 [==============================] - 0s 2ms/step - loss: 0.0812 - accuracy: 0.9812 - val_loss: 0.0879 - val_accuracy: 0.9903\n",
            "Epoch 29/50\n",
            "96/96 [==============================] - 0s 2ms/step - loss: 0.0750 - accuracy: 0.9833 - val_loss: 0.0814 - val_accuracy: 0.9927\n",
            "Epoch 30/50\n",
            "96/96 [==============================] - 0s 2ms/step - loss: 0.0739 - accuracy: 0.9875 - val_loss: 0.0786 - val_accuracy: 0.9757\n",
            "Epoch 31/50\n",
            "96/96 [==============================] - 0s 3ms/step - loss: 0.0778 - accuracy: 0.9791 - val_loss: 0.0813 - val_accuracy: 0.9684\n",
            "Epoch 32/50\n",
            "96/96 [==============================] - 0s 3ms/step - loss: 0.0685 - accuracy: 0.9854 - val_loss: 0.0787 - val_accuracy: 0.9757\n",
            "Epoch 33/50\n",
            "96/96 [==============================] - 0s 2ms/step - loss: 0.0685 - accuracy: 0.9833 - val_loss: 0.0677 - val_accuracy: 0.9903\n",
            "Epoch 34/50\n",
            "96/96 [==============================] - 0s 2ms/step - loss: 0.0609 - accuracy: 0.9864 - val_loss: 0.0785 - val_accuracy: 0.9684\n",
            "Epoch 35/50\n",
            "96/96 [==============================] - 0s 3ms/step - loss: 0.0591 - accuracy: 0.9843 - val_loss: 0.0668 - val_accuracy: 0.9927\n",
            "Epoch 36/50\n",
            "96/96 [==============================] - 0s 2ms/step - loss: 0.0586 - accuracy: 0.9875 - val_loss: 0.0606 - val_accuracy: 0.9951\n",
            "Epoch 37/50\n",
            "96/96 [==============================] - 0s 2ms/step - loss: 0.0552 - accuracy: 0.9843 - val_loss: 0.0589 - val_accuracy: 0.9757\n",
            "Epoch 38/50\n",
            "96/96 [==============================] - 0s 2ms/step - loss: 0.0556 - accuracy: 0.9896 - val_loss: 0.0592 - val_accuracy: 0.9951\n",
            "Epoch 39/50\n",
            "96/96 [==============================] - 0s 3ms/step - loss: 0.0563 - accuracy: 0.9843 - val_loss: 0.0542 - val_accuracy: 0.9927\n",
            "Epoch 40/50\n",
            "96/96 [==============================] - 0s 2ms/step - loss: 0.0589 - accuracy: 0.9812 - val_loss: 0.0509 - val_accuracy: 0.9951\n",
            "Epoch 41/50\n",
            "96/96 [==============================] - 0s 2ms/step - loss: 0.0516 - accuracy: 0.9833 - val_loss: 0.0496 - val_accuracy: 0.9927\n",
            "Epoch 42/50\n",
            "96/96 [==============================] - 0s 2ms/step - loss: 0.0588 - accuracy: 0.9833 - val_loss: 0.0572 - val_accuracy: 0.9757\n",
            "Epoch 43/50\n",
            "96/96 [==============================] - 0s 3ms/step - loss: 0.0550 - accuracy: 0.9801 - val_loss: 0.0481 - val_accuracy: 0.9927\n",
            "Epoch 44/50\n",
            "96/96 [==============================] - 0s 2ms/step - loss: 0.0486 - accuracy: 0.9854 - val_loss: 0.0540 - val_accuracy: 0.9732\n",
            "Epoch 45/50\n",
            "96/96 [==============================] - 0s 3ms/step - loss: 0.0484 - accuracy: 0.9854 - val_loss: 0.0425 - val_accuracy: 0.9951\n",
            "Epoch 46/50\n",
            "96/96 [==============================] - 0s 2ms/step - loss: 0.0441 - accuracy: 0.9875 - val_loss: 0.0411 - val_accuracy: 0.9927\n",
            "Epoch 47/50\n",
            "96/96 [==============================] - 0s 2ms/step - loss: 0.0466 - accuracy: 0.9812 - val_loss: 0.0452 - val_accuracy: 0.9854\n",
            "Epoch 48/50\n",
            "96/96 [==============================] - 0s 2ms/step - loss: 0.0444 - accuracy: 0.9843 - val_loss: 0.0500 - val_accuracy: 0.9903\n",
            "Epoch 49/50\n",
            "96/96 [==============================] - 0s 2ms/step - loss: 0.0405 - accuracy: 0.9875 - val_loss: 0.0616 - val_accuracy: 0.9708\n",
            "Epoch 50/50\n",
            "96/96 [==============================] - 0s 3ms/step - loss: 0.0418 - accuracy: 0.9864 - val_loss: 0.0571 - val_accuracy: 0.9854\n"
          ]
        }
      ],
      "source": [
        "learning_rate = 0.001\n",
        "opt = optimizers.Adam(lr=learning_rate)\n",
        "\n",
        "model.compile(loss='categorical_crossentropy',\n",
        "              optimizer=opt,\n",
        "              metrics=['accuracy'])\n",
        "\n",
        "# Train the model over 50 epochs using 10-observation batches and using the test holdout dataset for validation\n",
        "num_epochs = 50\n",
        "history = model.fit(x_train, y_train, epochs=num_epochs, batch_size=10, validation_data=(x_test, y_test))"
      ]
    },
    {
      "cell_type": "markdown",
      "source": [
        "# **Review Trained model**"
      ],
      "metadata": {
        "id": "6CuFLtJ8Ywab"
      }
    },
    {
      "cell_type": "code",
      "execution_count": 17,
      "metadata": {
        "id": "RGa8kCWJR-CC",
        "colab": {
          "base_uri": "https://localhost:8080/",
          "height": 279
        },
        "outputId": "93ad7c80-e996-431f-9c8a-5787023af3ea"
      },
      "outputs": [
        {
          "output_type": "display_data",
          "data": {
            "text/plain": [
              "<Figure size 432x288 with 1 Axes>"
            ],
            "image/png": "[encoded data removed]"
          },
          "metadata": {
            "needs_background": "light"
          }
        }
      ],
      "source": [
        "%matplotlib inline\n",
        "from matplotlib import pyplot as plt\n",
        "\n",
        "epoch_nums = range(1,num_epochs+1)\n",
        "training_loss = history.history[\"loss\"]\n",
        "validation_loss = history.history[\"val_loss\"]\n",
        "plt.plot(epoch_nums, training_loss)\n",
        "plt.plot(epoch_nums, validation_loss)\n",
        "plt.xlabel('epoch')\n",
        "plt.ylabel('loss')\n",
        "plt.legend(['training', 'validation'], loc='upper right')\n",
        "plt.show()"
      ]
    },
    {
      "cell_type": "markdown",
      "source": [
        "View the learned baises and weight"
      ],
      "metadata": {
        "id": "ZxY_LSSiZFpl"
      }
    },
    {
      "cell_type": "code",
      "source": [
        "for layer in model.layers:\n",
        "    weights = layer.get_weights()[0]\n",
        "    biases = layer.get_weights()[1]\n",
        "    print('Weights', weights ,'/n' ,'biases', biases)"
      ],
      "metadata": {
        "colab": {
          "base_uri": "https://localhost:8080/"
        },
        "id": "NcOknpfxY23W",
        "outputId": "4916853d-6400-4238-de6a-a845de7f704a"
      },
      "execution_count": 19,
      "outputs": [
        {
          "output_type": "stream",
          "name": "stdout",
          "text": [
            "Weights [[-0.27236846 -0.3841947   0.03324002  0.08020484 -0.10909867  0.12366871\n",
            "  -0.19756904  0.84458566  0.26858252 -0.4905011 ]\n",
            " [ 0.27471453  0.21265197  0.08151422 -0.17707926 -0.10406601  0.829508\n",
            "   0.34363747 -0.20646174 -0.36604074 -0.5447268 ]\n",
            " [-0.28836262 -0.634329    0.2833845   0.34767175  0.23550075 -0.07004239\n",
            "   0.14109215 -0.86872673 -0.45578727  0.3296095 ]\n",
            " [-0.42851955 -0.24623463 -0.28597653 -0.5230521  -0.43773973  0.2926158\n",
            "  -0.08106264  0.19301431  0.78104573 -0.4691702 ]] /n biases [ 0.          0.         -0.01292539  0.          0.          0.16412234\n",
            " -0.19619295 -0.3949304  -0.14897065  0.        ]\n",
            "Weights [[ 0.0607031  -0.30530828  0.39975524  0.3037489   0.15896738  0.03326017\n",
            "  -0.53190327  0.40915883 -0.03316814 -0.1240823 ]\n",
            " [ 0.42301047  0.14984506 -0.54566675  0.3919103  -0.4295466   0.50397205\n",
            "  -0.31616646  0.17803025 -0.41518384 -0.38429344]\n",
            " [ 0.5336163   0.37752342 -0.4694244   0.17206895 -0.04215616  0.5297911\n",
            "   0.4356906   0.28243893  0.26588047 -0.2233491 ]\n",
            " [-0.04491103  0.19579428 -0.26655364  0.17358297  0.3112036   0.53520477\n",
            "  -0.3109483  -0.5284722  -0.00098199 -0.44063687]\n",
            " [ 0.5135      0.39074183  0.39206952 -0.03048635  0.02663547  0.20555359\n",
            "   0.09307003  0.24590033 -0.49007446 -0.2917699 ]\n",
            " [ 0.5054951  -0.3901862   0.62461954  0.29417115 -0.26569188 -0.5313456\n",
            "   0.38871694 -0.1923122   0.01059398 -0.07474383]\n",
            " [ 0.26545775 -0.19090915  0.07137255 -0.30627972  0.12806404 -0.38203925\n",
            "  -0.21519004  0.4104463   0.26224965 -0.49726105]\n",
            " [-0.43657887 -0.21495155 -0.10540202 -0.46094683 -0.20800981  0.3025053\n",
            "  -0.04502414  0.44141603  0.348518   -0.28748614]\n",
            " [-0.50588965 -0.4176368  -0.2515293  -0.49696004 -0.27225545 -0.38996994\n",
            "  -0.32211655  0.16808182 -0.2558651   0.19933258]\n",
            " [ 0.32320213 -0.30822456 -0.37115166  0.45703936 -0.35191107  0.24120325\n",
            "  -0.2000556   0.23292273 -0.33508268 -0.51532805]] /n biases [-0.0292158   0.          0.48377296  0.          0.          0.\n",
            "  0.02877789 -0.34930232 -0.39448944 -0.04407152]\n",
            "Weights [[-0.38584498  0.32569566 -0.04485128]\n",
            " [ 0.50995994 -0.12620813 -0.6595991 ]\n",
            " [ 0.5606466  -0.02188893 -0.22959927]\n",
            " [ 0.54463303 -0.50025463  0.06109887]\n",
            " [ 0.26757038 -0.67376095 -0.18467396]\n",
            " [ 0.08888024 -0.2536324   0.20257705]\n",
            " [ 1.2574823  -1.9995731   0.6765293 ]\n",
            " [-0.5973126   0.5623341   0.13200209]\n",
            " [-1.6400278  -1.1110444   2.0028806 ]\n",
            " [ 0.6174795  -0.58692265 -0.05512072]] /n biases [ 0.4024764   0.40299594 -0.5969132 ]\n"
          ]
        }
      ]
    },
    {
      "cell_type": "markdown",
      "source": [
        "# **Evaluate Model Performance**"
      ],
      "metadata": {
        "id": "FuQ2ewJAaFRr"
      }
    },
    {
      "cell_type": "code",
      "source": [
        "import numpy as np\n",
        "from sklearn.metrics import confusion_matrix\n",
        "import matplotlib.pyplot as plt\n",
        "%matplotlib inline\n",
        "\n",
        "\n",
        "class_probabilities = model.predict(x_test)\n",
        "predictions = np.argmax(class_probabilities, axis=1)\n",
        "true_labels = np.argmax(y_test, axis=1)\n",
        "\n",
        "# Plot the confusion matrix\n",
        "cm = confusion_matrix(true_labels, predictions)\n",
        "plt.imshow(cm, interpolation=\"nearest\", cmap=plt.cm.Blues)\n",
        "plt.colorbar()\n",
        "tick_marks = np.arange(len(Penguin_class))\n",
        "plt.xticks(tick_marks, Penguin_class, rotation=85)\n",
        "plt.yticks(tick_marks, Penguin_class)\n",
        "plt.xlabel(\"Predicted Species\")\n",
        "plt.ylabel(\"Actual Species\")\n",
        "plt.show()"
      ],
      "metadata": {
        "colab": {
          "base_uri": "https://localhost:8080/",
          "height": 318
        },
        "id": "Z4jAg7z5Zl5W",
        "outputId": "bac01c7b-7440-40bc-eccb-b22998107e2d"
      },
      "execution_count": 21,
      "outputs": [
        {
          "output_type": "display_data",
          "data": {
            "text/plain": [
              "<Figure size 432x288 with 2 Axes>"
            ],
            "image/png": "[encoded data removed]"
          },
          "metadata": {
            "needs_background": "light"
          }
        }
      ]
    },
    {
      "cell_type": "markdown",
      "source": [
        "**Save the Model**"
      ],
      "metadata": {
        "id": "G7MgmTxOaboo"
      }
    },
    {
      "cell_type": "code",
      "source": [
        "ModelFilename = \"models/penguin-classifier-dl.h5\"\n",
        "model.save(ModelFilename)\n",
        "\n",
        "del model  # delete the existing model variable\n",
        "print('model saved as', ModelFilename)"
      ],
      "metadata": {
        "colab": {
          "base_uri": "https://localhost:8080/"
        },
        "id": "3DOaVpMcaLE2",
        "outputId": "f0f91cc1-e801-45f6-8134-cf4fe82696ac"
      },
      "execution_count": 22,
      "outputs": [
        {
          "output_type": "stream",
          "name": "stdout",
          "text": [
            "model saved as models/penguin-classifier-dl.h5\n"
          ]
        }
      ]
    },
    {
      "cell_type": "markdown",
      "source": [
        "# **Use the model**"
      ],
      "metadata": {
        "id": "ghZmtd4Fa6l5"
      }
    },
    {
      "cell_type": "code",
      "source": [
        "model = models.load_model(ModelFilename)\n",
        "\n",
        "# CReate a new array of features\n",
        "x_new = np.array([[50.4,15.3,20,50]])\n",
        "print ('New sample: {}'.format(x_new))\n",
        "\n",
        "# Use the model to predict the class\n",
        "class_probabilities = model.predict(x_new)\n",
        "predictions = np.argmax(class_probabilities, axis=1)\n",
        "\n",
        "print(Penguin_class[predictions[0]])"
      ],
      "metadata": {
        "colab": {
          "base_uri": "https://localhost:8080/"
        },
        "id": "TfAr8VmmayYi",
        "outputId": "4e7873a3-3f42-4c22-a606-f4e675dd23be"
      },
      "execution_count": 25,
      "outputs": [
        {
          "output_type": "stream",
          "name": "stdout",
          "text": [
            "New sample: [[50.4 15.3 20.  50. ]]\n",
            "Gentoo\n"
          ]
        }
      ]
    },
    {
      "cell_type": "code",
      "source": [
        ""
      ],
      "metadata": {
        "id": "LAMZ_hx9bnnz"
      },
      "execution_count": null,
      "outputs": []
    }
  ],
  "metadata": {
    "colab": {
      "name": "Deeplearning using Penguin data Set.ipynb",
      "provenance": [],
      "authorship_tag": "ABX9TyPbwiWJmuNukgh60ov0auqK",
      "include_colab_link": true
    },
    "kernelspec": {
      "display_name": "Python 3",
      "name": "python3"
    },
    "language_info": {
      "name": "python"
    }
  },
  "nbformat": 4,
  "nbformat_minor": 0
}